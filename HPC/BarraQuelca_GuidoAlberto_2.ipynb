{
  "nbformat": 4,
  "nbformat_minor": 0,
  "metadata": {
    "colab": {
      "name": "BarraQuelca_GuidoAlberto_2.ipynb",
      "provenance": [],
      "collapsed_sections": [],
      "toc_visible": true,
      "include_colab_link": true
    },
    "kernelspec": {
      "name": "python3",
      "display_name": "Python 3"
    },
    "accelerator": "GPU"
  },
  "cells": [
    {
      "cell_type": "markdown",
      "metadata": {
        "id": "view-in-github",
        "colab_type": "text"
      },
      "source": [
        "<a href=\"https://colab.research.google.com/github/guidobarra/pyhton-GPU/blob/main/HPC/BarraQuelca_GuidoAlberto_2.ipynb\" target=\"_parent\"><img src=\"https://colab.research.google.com/assets/colab-badge.svg\" alt=\"Open In Colab\"/></a>"
      ]
    },
    {
      "cell_type": "markdown",
      "metadata": {
        "id": "qoYPFWcielY3"
      },
      "source": [
        "# 1 Introducción\n",
        "\n",
        "El siguiente ejemplo se multiplicara dos matrices A y B, el resultado de la multiplicación se guardara en la matriz C.\n",
        "La multiplicación de matrices tiene muchas aplicaciones, una de ellas es en la generación de los movimientos de un objeto en los videojuegos como por ejemplo, la rotación, el giro o la traslación se los puede representar mediante una matriz. Al multiplicar algunas de las matrices mencionadas con la matriz de posición del objeto, se obtiene el movimiento del mismo.\n",
        "\n",
        "El desarrollo teórico de la multiplicación de matrices se mostrará a continuación.\n",
        "\n",
        "C = A.B=\\begin{pmatrix}a_{11}&\\cdots &a_{1n}\\\\\\vdots &\\ddots &\\vdots \\\\a_{m1}&\\cdots &a_{mn}\\end{pmatrix}\\begin{pmatrix}b_{11}&\\cdots &b_{1p}\\\\\\vdots &\\ddots &\\vdots \\\\b_{n1}&\\cdots &b_{np}\\end{pmatrix}\\begin{pmatrix}a_{11}b_{11}+\\cdots +a_{1n}b_{n1}&\\cdots &a_{11}b_{1p}+\\cdots +a_{1n}b_{np}\\\\\\vdots &\\ddots &\\vdots \\\\a_{m1}b_{11}+\\cdots +a_{mn}b_{n1}&\\cdots &a_{m1}b_{1p}+\\cdots +a_{mn}b_{np}\\end{pmatrix}\n",
        "\n",
        "\n",
        "\n",
        "\n",
        "\n",
        "La multiplicación de matrices se puede realizar si la dimensiones de las matrices coinciden, por ejemplo una matriz A de dimensión mxn y una matriz B de dimensión nxp, se puede realizar la operación de multiplicación porque sus dimensiones coinciden, la cantidad de columnas de la matriz A es n y la cantidad de filas de la matriz B es n, la matriz del resultado C tiene la dimensión de mxp. De forma simplificada la multiplicación de matrices se realizan mediante la multiplicación de los elementos de las filas de la matriz A con los elementos de las columnas de la matriz B, se suma cada multiplicación y el resultado es un elemento de la matriz C, debido a esto se valida las dimensiones de las matrices para su multiplicación.\n",
        "\n",
        "Para realizar la multiplicación se utilizará la siguiente ecuación, la cual sale del desarrollo teórico.\n",
        "<center>$C[f][c]=A[f][0]xB[0][c] + ....... +A[f][k]xB[k][c]$</center>\n",
        "para k:\n",
        "<center>$ k=cantColumnasMatrizA=cantFilasMatrizB$</center>\n",
        "\n",
        "EL objetivo es enseñar el funcionamiento del Lenguaje Python, CUDA y el manejo de la operacion de matriz a bajo nivel. El ejemplo es ilustrativo para entender los multi hilos de la GPU en dos dimensiones, básicamente cada hilo realiza la misma operación de multiplicar las filas por las columnas y el resultado se guarda en la matriz C."
      ]
    },
    {
      "cell_type": "markdown",
      "metadata": {
        "id": "32YB71STfPcy"
      },
      "source": [
        "---\n",
        "# 2 Armado del ambiente\n",
        "Toma las dimesiones de las matrices A Y B, deja disponible al contexto de ejecuciòn del cuaderno colab."
      ]
    },
    {
      "cell_type": "code",
      "metadata": {
        "id": "QcnL4UkAN7ub"
      },
      "source": [
        "#@title # 2.1 Parámetros de ejecución\n",
        "#@markdown ### Especifique las dimensiones de la matrices:\n",
        "\n",
        "try: \n",
        "  fila_mat_a =  250#@param {type:\"integer\"}\n",
        "  colum_mat_a =  250#@param {type:\"integer\"}\n",
        "\n",
        "  fila_mat_b =  250#@param {type:\"integer\"}\n",
        "  colum_mat_b =  250#@param {type:\"integer\"}\n",
        "\n",
        "except Exception as e:\n",
        "  print(\"Error de ingresar los parametros\")\n",
        "  print(\"Error debido a: \", e.__class__)\n",
        "  print(e)\n",
        "\n",
        "\n",
        "\n",
        "\n",
        "\n",
        "\n"
      ],
      "execution_count": 12,
      "outputs": []
    },
    {
      "cell_type": "markdown",
      "metadata": {
        "id": "X-KdeQaNvHyx"
      },
      "source": [
        "---\n",
        "## 2.2 validar los parametros"
      ]
    },
    {
      "cell_type": "code",
      "metadata": {
        "id": "paAPWUM4vICC",
        "colab": {
          "base_uri": "https://localhost:8080/"
        },
        "outputId": "7edec1fe-6147-4e6a-837d-2f5d3177698d"
      },
      "source": [
        "#A.B\n",
        "try:\n",
        "  if fila_mat_a < 0 or colum_mat_a < 0:\n",
        "    print(\"ERROR LAS DIMENCIONES DE LA MATRIZ A TIENE QUE SER MAYOR A 0\")\n",
        "  elif fila_mat_b < 0 or colum_mat_b < 0:\n",
        "    print(\"ERROR LAS DIMENCIONES DE LA MATRIZ B TIENE QUE SER MAYOR A 0\")\n",
        "  elif colum_mat_a != fila_mat_b:\n",
        "    print(\"ERROR LAS DIMENCIONES DE LAS MATRIZ NO PERMITEN REALIZAR LA MULTIPLICACION\")\n",
        "  else: \n",
        "    print(\"OK LAS MATRICES SE PUEDEN MULTIPLICAR\")\n",
        "except Exception as e:\n",
        "  print(\"Oops Ocurrio una error!\")\n",
        "  print(\"Error debido a: \", e.__class__)\n",
        "  print(e)"
      ],
      "execution_count": 13,
      "outputs": [
        {
          "output_type": "stream",
          "text": [
            "OK LAS MATRICES SE PUEDEN MULTIPLICAR\n"
          ],
          "name": "stdout"
        }
      ]
    },
    {
      "cell_type": "markdown",
      "metadata": {
        "id": "3GLsQ34ysP4_"
      },
      "source": [
        "---\n",
        "## 2.3 Instala en el cuaderno el módulo CUDA de Python."
      ]
    },
    {
      "cell_type": "code",
      "metadata": {
        "id": "ropgS48tsRTv",
        "colab": {
          "base_uri": "https://localhost:8080/"
        },
        "outputId": "72f1adca-853d-4475-c628-81232701beab"
      },
      "source": [
        "!pip install pycuda"
      ],
      "execution_count": 10,
      "outputs": [
        {
          "output_type": "stream",
          "text": [
            "Collecting pycuda\n",
            "\u001b[?25l  Downloading https://files.pythonhosted.org/packages/46/61/47d3235a4c13eec5a5f03594ddb268f4858734e02980afbcd806e6242fa5/pycuda-2020.1.tar.gz (1.6MB)\n",
            "\u001b[K     |████████████████████████████████| 1.6MB 8.9MB/s \n",
            "\u001b[?25hCollecting pytools>=2011.2\n",
            "\u001b[?25l  Downloading https://files.pythonhosted.org/packages/b7/30/c9362a282ef89106768cba9d884f4b2e4f5dc6881d0c19b478d2a710b82b/pytools-2020.4.3.tar.gz (62kB)\n",
            "\u001b[K     |████████████████████████████████| 71kB 10.9MB/s \n",
            "\u001b[?25hRequirement already satisfied: decorator>=3.2.0 in /usr/local/lib/python3.6/dist-packages (from pycuda) (4.4.2)\n",
            "Collecting appdirs>=1.4.0\n",
            "  Downloading https://files.pythonhosted.org/packages/3b/00/2344469e2084fb287c2e0b57b72910309874c3245463acd6cf5e3db69324/appdirs-1.4.4-py2.py3-none-any.whl\n",
            "Collecting mako\n",
            "\u001b[?25l  Downloading https://files.pythonhosted.org/packages/a6/37/0e706200d22172eb8fa17d68a7ae22dec7631a0a92266634fb518a88a5b2/Mako-1.1.3-py2.py3-none-any.whl (75kB)\n",
            "\u001b[K     |████████████████████████████████| 81kB 10.1MB/s \n",
            "\u001b[?25hRequirement already satisfied: six>=1.8.0 in /usr/local/lib/python3.6/dist-packages (from pytools>=2011.2->pycuda) (1.15.0)\n",
            "Requirement already satisfied: numpy>=1.6.0 in /usr/local/lib/python3.6/dist-packages (from pytools>=2011.2->pycuda) (1.18.5)\n",
            "Requirement already satisfied: dataclasses>=0.7 in /usr/local/lib/python3.6/dist-packages (from pytools>=2011.2->pycuda) (0.7)\n",
            "Requirement already satisfied: MarkupSafe>=0.9.2 in /usr/local/lib/python3.6/dist-packages (from mako->pycuda) (1.1.1)\n",
            "Building wheels for collected packages: pycuda, pytools\n",
            "  Building wheel for pycuda (setup.py) ... \u001b[?25l\u001b[?25hdone\n",
            "  Created wheel for pycuda: filename=pycuda-2020.1-cp36-cp36m-linux_x86_64.whl size=621008 sha256=d1fa24f8ef5f7599d4a2b8c9b21ef2c40d632abea3dbd8f0947fe1596f8432e9\n",
            "  Stored in directory: /root/.cache/pip/wheels/8f/78/d1/5bb826f81d9d490297a348d818ff3ee6dd6f2075b06dde6ea0\n",
            "  Building wheel for pytools (setup.py) ... \u001b[?25l\u001b[?25hdone\n",
            "  Created wheel for pytools: filename=pytools-2020.4.3-py2.py3-none-any.whl size=61374 sha256=a93e2fd9fb379c7a20856bc7c69dab461acfc89f92b56f2524546fbe88cb107e\n",
            "  Stored in directory: /root/.cache/pip/wheels/af/c7/81/a22edb90b0b09a880468b2253bb1df8e9f503337ee15432c64\n",
            "Successfully built pycuda pytools\n",
            "Installing collected packages: appdirs, pytools, mako, pycuda\n",
            "Successfully installed appdirs-1.4.4 mako-1.1.3 pycuda-2020.1 pytools-2020.4.3\n"
          ],
          "name": "stdout"
        }
      ]
    },
    {
      "cell_type": "markdown",
      "metadata": {
        "id": "Xt4Pea0Psrx_"
      },
      "source": [
        "---\n",
        "# 3 Desarrollo\n",
        "Ejecución del algoritmo de multiplicacion de matrices secuencial y paralelo."
      ]
    },
    {
      "cell_type": "markdown",
      "metadata": {
        "id": "i8TieHPix4bw"
      },
      "source": [
        "---\n",
        "## 3.1 Desarrollo Secuencial\n",
        "Ejecución del algoritmo de multiplicacion de matrices en forma secuencial utilizando la CPU."
      ]
    },
    {
      "cell_type": "code",
      "metadata": {
        "id": "8_uVXVJjz_Jr",
        "colab": {
          "base_uri": "https://localhost:8080/"
        },
        "outputId": "ad3a8265-259d-4e9a-b99f-86322a7cc8f3"
      },
      "source": [
        "try:\n",
        "  %matplotlib inline\n",
        "  from datetime import datetime\n",
        "  tiempo_total = datetime.now()\n",
        "  import numpy\n",
        "  \n",
        "  \n",
        "  # --------------------------------------------\n",
        "  # Definición de función que transforma el tiempo en  milisegundos \n",
        "  tiempo_en_ms = lambda dt:(dt.days * 24 * 60 * 60 + dt.seconds) * 1000 + dt.microseconds / 1000.0\n",
        "  # --------------------------------------------\n",
        "  \n",
        "  tiempo_definicion_matrices = datetime.now()\n",
        "  \n",
        "  # CPU - Defino la memoria de la matriz A en cpu.\n",
        "  matriz_a = numpy.random.randn(fila_mat_a, colum_mat_a)*10\n",
        "  matriz_a = matriz_a.astype(numpy.int32())\n",
        "  \n",
        "  # CPU - Defino la memoria de la matriz B en cpu.\n",
        "  matriz_b = numpy.random.randn(fila_mat_b, colum_mat_b)*10\n",
        "  matriz_b = matriz_b.astype(numpy.int32())\n",
        "  \n",
        "  # CPU - Defino la memoria de la matriz resultado C en cpu.\n",
        "  matriz_c = numpy.random.randn(fila_mat_a, colum_mat_b)*0\n",
        "  matriz_c = matriz_c.astype(numpy.int32())\n",
        "  matriz_c_secuencial = numpy.random.randn(fila_mat_a, colum_mat_b)*0\n",
        "  matriz_c_secuencial = matriz_c_secuencial.astype(numpy.int32())\n",
        "  \n",
        "  tiempo_definicion_matrices = datetime.now() - tiempo_definicion_matrices\n",
        "  \n",
        "  tiempo_multiplicacion_secuencial = datetime.now()\n",
        "  \n",
        "  for f in range(fila_mat_a):\n",
        "    for c in range(colum_mat_b):\n",
        "      for inter in range(colum_mat_a):\n",
        "        matriz_c_secuencial[f][c] += matriz_a[f][inter]*matriz_b[inter][c]\n",
        "  \n",
        "  tiempo_multiplicacion_secuencial = datetime.now() - tiempo_multiplicacion_secuencial\n",
        "  tiempo_total = datetime.now() - tiempo_total\n",
        "\n",
        "  print(\"\\n**MULTIPLICACION DE MATRICES UTILIZANDO CPU**\\n\")\n",
        "  print(\"Tiempo de definicion de matrices: \", tiempo_en_ms( tiempo_definicion_matrices ), \"[ms]\" )\n",
        "  print(\"Tiempo CPU  : \", tiempo_en_ms( tiempo_multiplicacion_secuencial ), \"[ms]\" )\n",
        "  print(\"Tiempo TOTAL: \", tiempo_en_ms( tiempo_total ), \"[ms]\" )\n",
        "  print(\"Matiz A:\\n\", matriz_a)\n",
        "  print(\"Matiz B:\\n\", matriz_b)\n",
        "  print(\"Matiz C:\\n\", matriz_c_secuencial)\n",
        "except Exception as e:\n",
        "  print(\"Oops Ocurrio una error!\")\n",
        "  print(\"Error debido a: \", e.__class__)\n",
        "  print(e)"
      ],
      "execution_count": 14,
      "outputs": [
        {
          "output_type": "stream",
          "text": [
            "\n",
            "**MULTIPLICACION DE MATRICES UTILIZANDO CPU**\n",
            "\n",
            "Tiempo de definicion de matrices:  15.199 [ms]\n",
            "Tiempo CPU  :  19890.21 [ms]\n",
            "Tiempo TOTAL:  19905.441 [ms]\n",
            "Matiz A:\n",
            " [[ 23  -3   7 ... -22   7  13]\n",
            " [ 15 -14   0 ...  16   5  -1]\n",
            " [-13   0   6 ... -16  -3  -6]\n",
            " ...\n",
            " [ -2   6  -1 ...   7  12   0]\n",
            " [ 13 -13   1 ...  -2   4  -3]\n",
            " [  1  -8 -11 ...   2  14 -23]]\n",
            "Matiz B:\n",
            " [[ -9  -1 -10 ... -11 -12  11]\n",
            " [ -5   6   4 ... -10   5  -7]\n",
            " [ -5  -2  -3 ...  10   3  -3]\n",
            " ...\n",
            " [  7   2  12 ...   3   7   0]\n",
            " [  0 -13  -9 ...   0   3   5]\n",
            " [ 13 -16 -12 ...   2   1 -12]]\n",
            "Matiz C:\n",
            " [[-1260  2858 -1223 ... -1730  -388  3717]\n",
            " [  917  1253  1480 ...   643 -1424   -63]\n",
            " [ 1825  1521  2560 ...  -997   180  1420]\n",
            " ...\n",
            " [-2526    43   775 ...  1727 -1988   730]\n",
            " [ -143  -874  -946 ...   560 -1405 -1272]\n",
            " [ -683  2054   988 ... -3087  1073  1110]]\n"
          ],
          "name": "stdout"
        }
      ]
    },
    {
      "cell_type": "markdown",
      "metadata": {
        "id": "Y_aZcBiexkyG"
      },
      "source": [
        "---\n",
        "## 3.2 Desarrollo Paralelo\n",
        "Ejecución del algoritmo de multiplicacion de matrices en forma paralela utilizando la GPU."
      ]
    },
    {
      "cell_type": "code",
      "metadata": {
        "id": "77PeSRgWv9-W",
        "colab": {
          "base_uri": "https://localhost:8080/"
        },
        "outputId": "7007ee70-953f-4d69-be9b-be4f9d5e5000"
      },
      "source": [
        "try:\n",
        "  %matplotlib inline\n",
        "  from datetime import datetime\n",
        "  tiempo_total = datetime.now()\n",
        "\n",
        "  import numpy\n",
        "  import pycuda.driver as cuda\n",
        "  import pycuda.autoinit\n",
        "  from   pycuda.compiler import SourceModule\n",
        "\n",
        "  # --------------------------------------------\n",
        "  # Definición de función que transforma el tiempo en  milisegundos\n",
        "  tiempo_en_ms = lambda dt:(dt.days * 24 * 60 * 60 + dt.seconds) * 1000 + dt.microseconds / 1000.0\n",
        "  # --------------------------------------------\n",
        "\n",
        "  tiempo_definicion_matrices = datetime.now()\n",
        "\n",
        "  # CPU - Defino la memoria de la matriz A en cpu.\n",
        "  matriz_a = numpy.random.randn(fila_mat_a, colum_mat_a)*10\n",
        "  matriz_a = matriz_a.astype(numpy.int32())\n",
        "\n",
        "  # CPU - Defino la memoria de la matriz B en cpu.\n",
        "  matriz_b = numpy.random.randn(fila_mat_b, colum_mat_b)*10\n",
        "  matriz_b = matriz_b.astype(numpy.int32())\n",
        "\n",
        "  # CPU - Defino la memoria de la matriz resultado C en cpu.\n",
        "  matriz_c = numpy.random.randn(fila_mat_a, colum_mat_b)*0\n",
        "  matriz_c = matriz_c.astype(numpy.int32())\n",
        "  matriz_c_secuencial = numpy.random.randn(fila_mat_a, colum_mat_b)*0\n",
        "  matriz_c_secuencial = matriz_c_secuencial.astype(numpy.int32())\n",
        "\n",
        "  tiempo_definicion_matrices = datetime.now() - tiempo_definicion_matrices\n",
        "\n",
        "  tiempo_reserva_memoria_GPU = datetime.now()\n",
        "  # CPU - reservo la memoria GPU.\n",
        "  matriz_a_Gpu = cuda.mem_alloc(matriz_a.nbytes)\n",
        "  matriz_b_Gpu = cuda.mem_alloc(matriz_b.nbytes)\n",
        "  matriz_c_Gpu = cuda.mem_alloc(matriz_c.nbytes)\n",
        "  tiempo_reserva_memoria_GPU = datetime.now() - tiempo_reserva_memoria_GPU\n",
        "\n",
        "  tiempo_copia_memoria_GPU = datetime.now()\n",
        "  # GPU - Copio la memoria al GPU.\n",
        "  cuda.memcpy_htod(matriz_a_Gpu, matriz_a)\n",
        "  cuda.memcpy_htod(matriz_b_Gpu, matriz_b)\n",
        "  cuda.memcpy_htod(matriz_c_Gpu, matriz_c)\n",
        "  tiempo_copia_memoria_GPU = datetime.now() - tiempo_copia_memoria_GPU\n",
        "\n",
        "  #CPU - Defino la funcion kernel que ejecutará en GPU\n",
        "  module = SourceModule(\"\"\"\n",
        "  __global__ void multiplicar(int ancho, int alto, int inter, int *matriz_a , int *matriz_b, int *matriz_c)\n",
        "  {\n",
        "      // Calculo las coordenadas del Thread en dos dimensiones.\n",
        "      int idx = threadIdx.x + blockIdx.x*blockDim.x;\n",
        "      int idy = threadIdx.y + blockIdx.y*blockDim.y;\n",
        "\n",
        "      // Verifico que los Thread, esten dentro de las dimensiones de la imagen.\n",
        "      if( idx < ancho && idy < alto ) {\n",
        "        int indice = idy+(idx*ancho);\n",
        "        int i = 0;\n",
        "        int resul = 0;\n",
        "\n",
        "        //\n",
        "        while (i<inter) {\n",
        "          //multiplico fila por columna y sumo el resultado de cada componente\n",
        "          resul += matriz_a[idx*inter + i]*matriz_b[idy + i*inter];\n",
        "          i++;\n",
        "        }\n",
        "        //paso el resultado obtenido a la componente de la matriz\n",
        "        matriz_c[indice] = resul;\n",
        "      }\n",
        "  }\n",
        "\n",
        "  \"\"\")\n",
        "\n",
        "  # CPU - Genero la función kernel.\n",
        "  kernel = module.get_function(\"multiplicar\")\n",
        "\n",
        "  dim_hilo_x = 16\n",
        "  dim_bloque_x = numpy.int( (fila_mat_a+dim_hilo_x-1) / dim_hilo_x )\n",
        "\n",
        "  dim_hilo_y = 19\n",
        "  dim_bloque_y = numpy.int( (colum_mat_b+dim_hilo_y-1) / dim_hilo_y )\n",
        "\n",
        "  print( \"Thread: [\",\n",
        "        dim_hilo_x,\n",
        "        \",\",\n",
        "        dim_hilo_y,\n",
        "        \" ], Bloque : [\",\n",
        "        dim_bloque_x,\n",
        "        \",\",\n",
        "        dim_bloque_y,\n",
        "        \"]\" )\n",
        "  print( \"Total de Thread: [\",\n",
        "        dim_hilo_x*dim_bloque_x,\n",
        "        \",\",\n",
        "        dim_hilo_y*dim_bloque_y,\n",
        "        \" ]\",\n",
        "        \" = \",\n",
        "        dim_hilo_x*dim_bloque_x*dim_hilo_y*dim_bloque_y )\n",
        "\n",
        "  tiempo_multiplicacion_paralela = datetime.now()\n",
        "\n",
        "  kernel( numpy.int32(fila_mat_a),\n",
        "          numpy.int32(colum_mat_b),\n",
        "          numpy.int32(colum_mat_a),\n",
        "          matriz_a_Gpu,\n",
        "          matriz_b_Gpu,\n",
        "          matriz_c_Gpu,\n",
        "          block=( dim_hilo_x, dim_hilo_y, 1 ),\n",
        "          grid=(dim_bloque_x, dim_bloque_y,1) )\n",
        "\n",
        "  tiempo_multiplicacion_paralela = datetime.now() - tiempo_multiplicacion_paralela\n",
        "\n",
        "  # GPU - Copio el resultado desde la memoria GPU.\n",
        "  cuda.memcpy_dtoh( matriz_c, matriz_c_Gpu )\n",
        "  tiempo_total = datetime.now() - tiempo_total\n",
        "\n",
        "  print(\"\\n**MULTIPLICACION DE MATRICES UTILIZANDO GPU**\\n\")\n",
        "  print(\"Tiempo de definicion de matrices: \", tiempo_en_ms( tiempo_definicion_matrices ), \"[ms]\" )\n",
        "  print(\"Tiempo de reserva de matrices: \", tiempo_en_ms( tiempo_reserva_memoria_GPU ), \"[ms]\" )\n",
        "  print(\"Tiempo de copia de matrices: \", tiempo_en_ms( tiempo_copia_memoria_GPU ), \"[ms]\" )\n",
        "  print(\"Tiempo GPU  : \", tiempo_en_ms( tiempo_multiplicacion_paralela ), \"[ms]\" )\n",
        "  print(\"Tiempo TOTAL: \", tiempo_en_ms( tiempo_total ), \"[ms]\" )\n",
        "  print(\"Matiz A:\\n\", matriz_a)\n",
        "  print(\"Matiz B:\\n\", matriz_b)\n",
        "  print(\"Matiz C:\\n\", matriz_c)\n",
        "except Exception as e:\n",
        "  print(\"Oops Ocurrio una error!\")\n",
        "  print(\"Error debido a: \", e.__class__)\n",
        "  print(e)"
      ],
      "execution_count": 15,
      "outputs": [
        {
          "output_type": "stream",
          "text": [
            "Thread: [ 16 , 19  ], Bloque : [ 16 , 14 ]\n",
            "Total de Thread: [ 256 , 266  ]  =  68096\n",
            "\n",
            "**MULTIPLICACION DE MATRICES UTILIZANDO GPU**\n",
            "\n",
            "Tiempo de definicion de matrices:  12.566 [ms]\n",
            "Tiempo de reserva de matrices:  0.358 [ms]\n",
            "Tiempo de copia de matrices:  0.319 [ms]\n",
            "Tiempo GPU  :  1.724 [ms]\n",
            "Tiempo TOTAL:  938.048 [ms]\n",
            "Matiz A:\n",
            " [[ 17  -6  13 ...   4 -23   1]\n",
            " [  2   1   9 ...   1  -1   1]\n",
            " [  8   4   6 ...  -5   4   1]\n",
            " ...\n",
            " [ -3   0  -2 ...  24   6   3]\n",
            " [ 12  11  -4 ...  23  -4  12]\n",
            " [ -3   5   0 ...  -3   3   0]]\n",
            "Matiz B:\n",
            " [[-13  -2 -11 ...   0   4 -10]\n",
            " [ 11   9 -13 ...  12  -8  -8]\n",
            " [  2  -5   0 ... -11  -6  -3]\n",
            " ...\n",
            " [ 19  -3   2 ...   6  -6   1]\n",
            " [  0  23   7 ... -19  17   1]\n",
            " [ 12   6  -6 ...  17   4   0]]\n",
            "Matiz C:\n",
            " [[ -831   714  -791 ...  -312 -1289   818]\n",
            " [-1251 -1969  -862 ... -1406  1446    14]\n",
            " [ -165 -3113  -755 ... -1520  1681 -2462]\n",
            " ...\n",
            " [  989   398  -555 ...  1209    52  3124]\n",
            " [  284 -1030 -4807 ...  1104  -653 -1810]\n",
            " [   53 -1294  1286 ... -1504  -460  1169]]\n"
          ],
          "name": "stdout"
        }
      ]
    },
    {
      "cell_type": "markdown",
      "metadata": {
        "id": "zqAv4Gt7qRrh"
      },
      "source": [
        "---\n",
        "# 4 Tabla de pasos\n",
        "\n",
        "\n",
        " Procesador | Funciòn | Detalle\n",
        "------------|---------|----------\n",
        "CPU      | pip install pycuda     | Instala en el cuaderno los driver de CUDA para Python.\n",
        "CPU      |  import                | Importa los módulos.\n",
        "CPU      |  datetime.now()        | Toma el tiempo actual.\n",
        "CPU      |numpy.random.randn(n, m)| Crear una matrices de dimensiones nxm con numeros ramdoms.\n",
        "CPU      |  ar.astype(np.int32()) | Convierte los elemementos del array ar en elementos de tipo int 32 bit.\n",
        "**GPU**  |  cuda.mem_alloc()      | Reserva la memoria para las matrices en GPU.\n",
        "**GPU**  |  cuda.memcpy_htod()    | Copio los valores en crudo de las matrices al GPU.\n",
        "CPU      |  SourceModule()        | Posee el còdigo del kernel.\n",
        "CPU      |  module.get_function() | convierte el texto del kernel en funcion de Python.\n",
        "CPU      | dim_hilo_x, dim_hilo_y | Calcula las dimensiones para la ejecuciòn de 2D.\n",
        "**GPU**  |  kernel()              | Ejecuta el kernel en GPU, enviando los parametros.\n",
        "CPU      |  print()               | Informa con algun mensaje.\n",
        "CPU      | cuda.memcpy_dtoh()     | Copia desde la memoria GPU al CPU."
      ]
    },
    {
      "cell_type": "markdown",
      "metadata": {
        "id": "Qtiz4_7bmaDe"
      },
      "source": [
        "---\n",
        "# 5 Conclusiones\n",
        "\n",
        "Se hicieron varias pruebas con matrices de pocos elementos, 9 = 3x3, y con matrices de muchos elementos, 62500 = 250x250. Se observó que para matrices pequeñas el tiempo de ejecución de la forma secuencial utilizando la CPU y el tiempo de ejecución de la forma paralela utilizando la GPU, son aproximadamente iguales y en ocasiones el tiempo de ejecución total de la GPU es mayor que el tiempo de ejecución total de la CPU, parecería que no estaría mejorando el tiempo de ejecución utilizando la GPU. Sin embargo al momento de tener matrices con muchos elementos se observó que el tiempo de ejecución de la multiplicación de matrices utilizando la GPU se mantiene constante o a lo sumo aumenta levemente, mientras que el tiempo de ejecución de la multiplicación de matrices utilizando la CPU aumenta significativamente cada vez que aumenta las dimensiones de las matrices. \n",
        "\n",
        "Se concluye que la utilización de la GPU baja el tiempo de ejecución de la multiplicación de matrices en comparación con la CPU siempre que se multiplique matrices con muchos elementos aproximadamente 2500 = 50x50"
      ]
    },
    {
      "cell_type": "markdown",
      "metadata": {
        "id": "ufDYy0LPmbYH"
      },
      "source": [
        "---\n",
        "# 6 Bibliografía\n",
        "\n",
        "[1] Multiplicacion de matrices, conceptual: [Pagina economipedia](https://economipedia.com/definiciones/multiplicacion-de-matrices.html)\n",
        "\n",
        "[2] Introducción a Python: [Página Colab](https://github.com/wvaliente/SOA_HPC/blob/main/Documentos/Python_Basico.ipynb) \n",
        "\n",
        "[3] Mulplicacion de matrices. Aplicaciones y Desarrollo: [PDF](http://docs.uprb.edu/deptmate/material%20suplementario/CIME/7mo%20a%209no/Matrices%20y%20sus%20Aplicaciones.pdf)\n",
        "\n",
        "[4] Canal Derivando, Aplicaciones de Matrices: [Video](https://www.youtube.com/watch?v=9FKFgNQktkU)\n",
        "\n",
        "[5] MARKDOWN SYNTAX Colab: [PDF](https://github.com/wvaliente/SOA_HPC/blob/main/Documentos/markdown-cheatsheet-online.pdf)\n",
        "\n",
        "[6] Teoría: [WIKI](https://es.wikipedia.org/wiki/Multiplicaci%C3%B3n_de_matrices)\n",
        "\n",
        "\n",
        "\n",
        "\n",
        "\n"
      ]
    }
  ]
}