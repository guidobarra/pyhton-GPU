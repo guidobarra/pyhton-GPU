{
  "nbformat": 4,
  "nbformat_minor": 0,
  "metadata": {
    "colab": {
      "name": "BarraQuelca_GuidoAlberto_2.ipynb",
      "provenance": [],
      "collapsed_sections": [],
      "toc_visible": true,
      "include_colab_link": true
    },
    "kernelspec": {
      "name": "python3",
      "display_name": "Python 3"
    },
    "accelerator": "GPU"
  },
  "cells": [
    {
      "cell_type": "markdown",
      "metadata": {
        "id": "view-in-github",
        "colab_type": "text"
      },
      "source": [
        "<a href=\"https://colab.research.google.com/github/guidobarra/pyhton-GPU/blob/main/BarraQuelca_GuidoAlberto_2.ipynb\" target=\"_parent\"><img src=\"https://colab.research.google.com/assets/colab-badge.svg\" alt=\"Open In Colab\"/></a>"
      ]
    },
    {
      "cell_type": "markdown",
      "metadata": {
        "id": "qoYPFWcielY3"
      },
      "source": [
        "# 1 Introducción\n",
        "\n",
        "El siguiente ejemplo se multiplicara dos matrices A y B, el resultado de la multiplicacion se guardara en la matriz C.\n",
        "La multiplicacion de la matrices tiene muchas aplicaciones, una de ellas es en la generacion del movimientos de un objeto en los videojuegos como por ejemplo, la rotacion, el giro o la traslacion se los puede representar mediante una matriz. Al multiplicar algunas de las matrices mensionadas con la matriz de posicion del objeto, se obtiene el movimiento del mismo. \n",
        "\n",
        "El desarrollo teorico de la multiplicacion de matrices se mostrara a continuacion.\n",
        "\n",
        "C = A.B\n",
        "\\begin{pmatrix}a_{11}&\\cdots &a_{1n}\\\\\\vdots &\\ddots &\\vdots \\\\a_{m1}&\\cdots &a_{mn}\\end{pmatrix}\\begin{pmatrix}b_{11}&\\cdots &b_{1p}\\\\\\vdots &\\ddots &\\vdots \\\\b_{n1}&\\cdots &b_{np}\\end{pmatrix}\\begin{pmatrix}a_{11}b_{11}+\\cdots +a_{1n}b_{n1}&\\cdots &a_{11}b_{1p}+\\cdots +a_{1n}b_{np}\\\\\\vdots &\\ddots &\\vdots \\\\a_{m1}b_{11}+\\cdots +a_{mn}b_{n1}&\\cdots &a_{m1}b_{1p}+\\cdots +a_{mn}b_{np}\\end{pmatrix}\n",
        "\n",
        "La multiplicacion de matrices se puede realizar si la dimensiones de las matrices coinciden, por ejemplo una matriz A de dimension mxn y una matriz B de dimension nxp, se puede realizar la operacion de multiplicacion porque sus dimensiones coinciden, la cantidad de columnas de la matriz A es n y la cantidad de filas de la matriz B es n, la matriz del resultado C tiene la dimension de mxp. De forma simplificada la multiplicacion de matrices se realizas mediante la multiplicacion de los elementos de las filas de la matriz A con los elementos de las columnas de la matriz B, se suma cada multiplicacion y el resultado es un elemento de la matriz C,  debido a esto se valida las dimensiones de las matrices para su multiplicacion.\n",
        "\n",
        "\n",
        "Para realizar la multipliacion se utilizara la siguiente ecuacion, la cual sale del desarrollo teorico.\n",
        "<center>$C[f][c]=A[f][0]xB[0][c] + ....... +A[f][k]xB[k][c]$</center>\n",
        "cuando k sea:\n",
        "<center>$ k=cantColumnasMatrizA=cantFilasMatrizB$</center>\n",
        "\n",
        "EL objetivo es enseñar el funcionamiento del Lenguaje Python, CUDA y el manejo de la operacion de matriz a bajo nivel. El ejemplo es ilustrativo para entededer los multi hilos de la GPU en dos dimenciones, basicamente cada hilo realiza la misma operacion de multiplicar las filas por las columnas y el resultado se guarda en la matriz C."
      ]
    },
    {
      "cell_type": "markdown",
      "metadata": {
        "id": "32YB71STfPcy"
      },
      "source": [
        "---\n",
        "# 2 Armado del ambiente\n",
        "Toma las dimesiones de las matrices A Y B, la deja disponible al contexto de ejecuciòn del cuaderno colab."
      ]
    },
    {
      "cell_type": "code",
      "metadata": {
        "id": "QcnL4UkAN7ub"
      },
      "source": [
        "#@title # 2.1 Parámetros de ejecución\n",
        "#@markdown ### Especifique las dimensiones de la matrices:\n",
        "\n",
        "try: \n",
        "  fila_mat_a =  10#@param {type:\"integer\"}\n",
        "  colum_mat_a =  10#@param {type:\"integer\"}\n",
        "\n",
        "  fila_mat_b =  10#@param {type:\"integer\"}\n",
        "  colum_mat_b =  10#@param {type:\"integer\"}\n",
        "\n",
        "except Exception as e:\n",
        "  print(\"Error de ingresar los parametros\")\n",
        "  print(\"Error debido a: \", e.__class__)\n",
        "  print(e)\n",
        "\n",
        "\n",
        "\n",
        "\n",
        "\n",
        "\n"
      ],
      "execution_count": 17,
      "outputs": []
    },
    {
      "cell_type": "markdown",
      "metadata": {
        "id": "X-KdeQaNvHyx"
      },
      "source": [
        "---\n",
        "## 2.2 validar los parametros"
      ]
    },
    {
      "cell_type": "code",
      "metadata": {
        "id": "paAPWUM4vICC",
        "outputId": "36b32a22-0000-4235-803c-69503e049be4",
        "colab": {
          "base_uri": "https://localhost:8080/"
        }
      },
      "source": [
        "#A.B\n",
        "try:\n",
        "  if fila_mat_a < 0 or colum_mat_a < 0:\n",
        "    print(\"ERROR LAS DIMENCIONES DE LA MATRIZ A TIENE QUE SER MAYOR A 0\")\n",
        "  elif fila_mat_b < 0 or colum_mat_b < 0:\n",
        "    print(\"ERROR LAS DIMENCIONES DE LA MATRIZ B TIENE QUE SER MAYOR A 0\")\n",
        "  elif colum_mat_a != fila_mat_b:\n",
        "    print(\"ERROR LAS DIMENCIONES DE LAS MATRIZ NO PERMITEN REALIZAR LA MULTIPLICACION\")\n",
        "  else: \n",
        "    print(\"OK LAS MATRICES SE PUEDEN MULTIPLICAR\")\n",
        "except Exception as e:\n",
        "  print(\"Oops Ocurrio una error!\")\n",
        "  print(\"Error debido a: \", e.__class__)\n",
        "  print(e)"
      ],
      "execution_count": 18,
      "outputs": [
        {
          "output_type": "stream",
          "text": [
            "OK LAS MATRICES SE PUEDEN MULTIPLICAR\n"
          ],
          "name": "stdout"
        }
      ]
    },
    {
      "cell_type": "markdown",
      "metadata": {
        "id": "3GLsQ34ysP4_"
      },
      "source": [
        "---\n",
        "## 2.3 Instala en el cuaderno el módulo CUDA de Python."
      ]
    },
    {
      "cell_type": "code",
      "metadata": {
        "id": "ropgS48tsRTv",
        "outputId": "73ef6898-5a22-4318-fdd9-74f8b6a466d9",
        "colab": {
          "base_uri": "https://localhost:8080/"
        }
      },
      "source": [
        "!pip install pycuda"
      ],
      "execution_count": 9,
      "outputs": [
        {
          "output_type": "stream",
          "text": [
            "Requirement already satisfied: pycuda in /usr/local/lib/python3.6/dist-packages (2020.1)\n",
            "Requirement already satisfied: mako in /usr/local/lib/python3.6/dist-packages (from pycuda) (1.1.3)\n",
            "Requirement already satisfied: pytools>=2011.2 in /usr/local/lib/python3.6/dist-packages (from pycuda) (2020.4.3)\n",
            "Requirement already satisfied: appdirs>=1.4.0 in /usr/local/lib/python3.6/dist-packages (from pycuda) (1.4.4)\n",
            "Requirement already satisfied: decorator>=3.2.0 in /usr/local/lib/python3.6/dist-packages (from pycuda) (4.4.2)\n",
            "Requirement already satisfied: MarkupSafe>=0.9.2 in /usr/local/lib/python3.6/dist-packages (from mako->pycuda) (1.1.1)\n",
            "Requirement already satisfied: numpy>=1.6.0 in /usr/local/lib/python3.6/dist-packages (from pytools>=2011.2->pycuda) (1.18.5)\n",
            "Requirement already satisfied: six>=1.8.0 in /usr/local/lib/python3.6/dist-packages (from pytools>=2011.2->pycuda) (1.15.0)\n",
            "Requirement already satisfied: dataclasses>=0.7; python_version <= \"3.6\" in /usr/local/lib/python3.6/dist-packages (from pytools>=2011.2->pycuda) (0.7)\n"
          ],
          "name": "stdout"
        }
      ]
    },
    {
      "cell_type": "markdown",
      "metadata": {
        "id": "Xt4Pea0Psrx_"
      },
      "source": [
        "---\n",
        "# 3 Desarrollo\n",
        "Ejecución del algoritmo de multiplicacion de matrices secuencial y paralelo."
      ]
    },
    {
      "cell_type": "markdown",
      "metadata": {
        "id": "i8TieHPix4bw"
      },
      "source": [
        "---\n",
        "## 3.1 Desarrollo Secuencial\n",
        "Ejecución del algoritmo de multiplicacion de matrices en forma secuencial utilizando la CPU."
      ]
    },
    {
      "cell_type": "code",
      "metadata": {
        "id": "8_uVXVJjz_Jr",
        "outputId": "1dd0ec3a-4036-4ac8-c27a-b319806610c5",
        "colab": {
          "base_uri": "https://localhost:8080/"
        }
      },
      "source": [
        "try:\n",
        "  %matplotlib inline\n",
        "  from datetime import datetime\n",
        "  tiempo_total = datetime.now()\n",
        "  import numpy\n",
        "  \n",
        "  \n",
        "  # --------------------------------------------\n",
        "  # Definición de función que transforma el tiempo en  milisegundos \n",
        "  tiempo_en_ms = lambda dt:(dt.days * 24 * 60 * 60 + dt.seconds) * 1000 + dt.microseconds / 1000.0\n",
        "  # --------------------------------------------\n",
        "  \n",
        "  tiempo_definicion_matrices = datetime.now()\n",
        "  \n",
        "  # CPU - Defino la memoria de la matriz A en cpu.\n",
        "  matriz_a = numpy.random.randn(fila_mat_a, colum_mat_a)*10\n",
        "  matriz_a = matriz_a.astype(numpy.int32())\n",
        "  \n",
        "  # CPU - Defino la memoria de la matriz B en cpu.\n",
        "  matriz_b = numpy.random.randn(fila_mat_b, colum_mat_b)*10\n",
        "  matriz_b = matriz_b.astype(numpy.int32())\n",
        "  \n",
        "  # CPU - Defino la memoria de la matriz resultado C en cpu.\n",
        "  matriz_c = numpy.random.randn(fila_mat_a, colum_mat_b)*0\n",
        "  matriz_c = matriz_c.astype(numpy.int32())\n",
        "  matriz_c_secuencial = numpy.random.randn(fila_mat_a, colum_mat_b)*0\n",
        "  matriz_c_secuencial = matriz_c_secuencial.astype(numpy.int32())\n",
        "  \n",
        "  tiempo_definicion_matrices = datetime.now() - tiempo_definicion_matrices\n",
        "  \n",
        "  tiempo_multiplicacion_secuencial = datetime.now()\n",
        "  \n",
        "  for f in range(fila_mat_a):\n",
        "    for c in range(colum_mat_b):\n",
        "      for inter in range(colum_mat_a):\n",
        "        matriz_c_secuencial[f][c] += matriz_a[f][inter]*matriz_b[inter][c]\n",
        "  \n",
        "  tiempo_multiplicacion_secuencial = datetime.now() - tiempo_multiplicacion_secuencial\n",
        "  tiempo_total = datetime.now() - tiempo_total\n",
        "\n",
        "  print(\"\\n**MULTIPLICACION DE MATRICES UTILIZANDO CPU**\\n\")\n",
        "  print(\"Tiempo de definicion de matrices: \", tiempo_en_ms( tiempo_definicion_matrices ), \"[ms]\" )\n",
        "  print(\"Tiempo CPU  : \", tiempo_en_ms( tiempo_multiplicacion_secuencial ), \"[ms]\" )\n",
        "  print(\"Tiempo TOTAL: \", tiempo_en_ms( tiempo_total ), \"[ms]\" )\n",
        "  print(\"Matiz A:\\n\", matriz_a)\n",
        "  print(\"Matiz B:\\n\", matriz_b)\n",
        "  print(\"Matiz C:\\n\", matriz_c_secuencial)\n",
        "except Exception as e:\n",
        "  print(\"Oops Ocurrio una error!\")\n",
        "  print(\"Error debido a: \", e.__class__)\n",
        "  print(e)"
      ],
      "execution_count": 20,
      "outputs": [
        {
          "output_type": "stream",
          "text": [
            "\n",
            "**MULTIPLICACION DE MATRICES UTILIZANDO CPU**\n",
            "\n",
            "Tiempo de definicion de matrices:  0.127 [ms]\n",
            "Tiempo CPU  :  1.239 [ms]\n",
            "Tiempo TOTAL:  1.377 [ms]\n",
            "Matiz A:\n",
            " [[-24   0   7  18 -20   5   0  -1  -4 -11]\n",
            " [-17 -20  17 -11 -19  -6  -3   7  -1   2]\n",
            " [ 11  14 -19 -12   9  20  -2   3 -22   1]\n",
            " [  0   8   4  10  -6  19   4  -2  -2  -1]\n",
            " [ -7  13   0  -3   0 -26   7   0  -2 -12]\n",
            " [-15   2  -5 -12   0   6  -8   0   9   0]\n",
            " [  5  -5  13  16   2  -5  18 -17  -9   2]\n",
            " [ -1   1  -6   8   0   8  -4   6   1  25]\n",
            " [-13   9  -2   4   8  -3  18 -15   6  -5]\n",
            " [  6  -4   9 -13 -10  -6   6  -4  11   7]]\n",
            "Matiz B:\n",
            " [[  0   8 -18   9 -17  -8  14  11   4  -9]\n",
            " [  2 -17   4  -1   6 -18   4   3  -9  17]\n",
            " [  4 -10 -16  10   6   2  -1  -7   3 -11]\n",
            " [ -7  -7  -7 -11   7  -2  -3  -5   4 -10]\n",
            " [  1  23   2   3   6   8 -10  -7 -15   2]\n",
            " [ -3  -6 -12   9   9  -3 -19   8   1 -15]\n",
            " [ -2   8  10  -9 -16   4   0  -5  21 -13]\n",
            " [  6   0   9 -20   6  15   4 -28  -8   3]\n",
            " [  2  -1  12   3  -6  11  12  -1  14   3]\n",
            " [ 12  -5   0   0 -10   7   5 -16 -13   2]]\n",
            "Matiz C:\n",
            " [[-279 -819   37 -351  629 -141 -399  -15  397 -193]\n",
            " [ 174 -323   86  -69  102  514   28 -438  239 -151]\n",
            " [ -25  212 -233  126  105 -540 -452  385 -689  157]\n",
            " [-137 -459 -344   73  223 -304 -340  194  174 -371]\n",
            " [ -37   18  557 -346  -38 -172  373  -72   92  583]\n",
            " [  84 -129  398   98  281  147 -167   15 -177  385]\n",
            " [-185  102 -447  116 -314 -193 -102  178  495 -662]\n",
            " [ 244 -227   -8 -167  -41  198  -19 -491 -434   15]\n",
            " [-175  100  443  -37  -52 -119 -192  202  401   42]\n",
            " [ 197  -75   31  266 -533  140  463   37  400  -64]]\n"
          ],
          "name": "stdout"
        }
      ]
    },
    {
      "cell_type": "markdown",
      "metadata": {
        "id": "Y_aZcBiexkyG"
      },
      "source": [
        "---\n",
        "## 3.2 Desarrollo Paralelo\n",
        "Ejecución del algoritmo de multiplicacion de matrices en forma paralela utilizando la GPU."
      ]
    },
    {
      "cell_type": "code",
      "metadata": {
        "id": "77PeSRgWv9-W",
        "outputId": "0c83a3a0-438c-43b0-9e03-7f8da74295e9",
        "colab": {
          "base_uri": "https://localhost:8080/"
        }
      },
      "source": [
        "try:\n",
        "  %matplotlib inline\n",
        "  from datetime import datetime\n",
        "  tiempo_total = datetime.now()\n",
        "\n",
        "  import numpy\n",
        "  import pycuda.driver as cuda\n",
        "  import pycuda.autoinit\n",
        "  from   pycuda.compiler import SourceModule\n",
        "\n",
        "  # --------------------------------------------\n",
        "  # Definición de función que transforma el tiempo en  milisegundos\n",
        "  tiempo_en_ms = lambda dt:(dt.days * 24 * 60 * 60 + dt.seconds) * 1000 + dt.microseconds / 1000.0\n",
        "  # --------------------------------------------\n",
        "\n",
        "  tiempo_definicion_matrices = datetime.now()\n",
        "\n",
        "  # CPU - Defino la memoria de la matriz A en cpu.\n",
        "  matriz_a = numpy.random.randn(fila_mat_a, colum_mat_a)*10\n",
        "  matriz_a = matriz_a.astype(numpy.int32())\n",
        "\n",
        "  # CPU - Defino la memoria de la matriz B en cpu.\n",
        "  matriz_b = numpy.random.randn(fila_mat_b, colum_mat_b)*10\n",
        "  matriz_b = matriz_b.astype(numpy.int32())\n",
        "\n",
        "  # CPU - Defino la memoria de la matriz resultado C en cpu.\n",
        "  matriz_c = numpy.random.randn(fila_mat_a, colum_mat_b)*0\n",
        "  matriz_c = matriz_c.astype(numpy.int32())\n",
        "  matriz_c_secuencial = numpy.random.randn(fila_mat_a, colum_mat_b)*0\n",
        "  matriz_c_secuencial = matriz_c_secuencial.astype(numpy.int32())\n",
        "\n",
        "  tiempo_definicion_matrices = datetime.now() - tiempo_definicion_matrices\n",
        "\n",
        "  tiempo_reserva_memoria_GPU = datetime.now()\n",
        "  # CPU - reservo la memoria GPU.\n",
        "  matriz_a_Gpu = cuda.mem_alloc(matriz_a.nbytes)\n",
        "  matriz_b_Gpu = cuda.mem_alloc(matriz_b.nbytes)\n",
        "  matriz_c_Gpu = cuda.mem_alloc(matriz_c.nbytes)\n",
        "  tiempo_reserva_memoria_GPU = datetime.now() - tiempo_reserva_memoria_GPU\n",
        "\n",
        "  tiempo_copia_memoria_GPU = datetime.now()\n",
        "  # GPU - Copio la memoria al GPU.\n",
        "  cuda.memcpy_htod(matriz_a_Gpu, matriz_a)\n",
        "  cuda.memcpy_htod(matriz_b_Gpu, matriz_b)\n",
        "  cuda.memcpy_htod(matriz_c_Gpu, matriz_c)\n",
        "  tiempo_copia_memoria_GPU = datetime.now() - tiempo_copia_memoria_GPU\n",
        "\n",
        "  #CPU - Defino la funcion kernel que ejecutará en GPU\n",
        "  module = SourceModule(\"\"\"\n",
        "  __global__ void multiplicar(int ancho, int alto, int inter, int *matriz_a , int *matriz_b, int *matriz_c)\n",
        "  {\n",
        "      // Calculo las coordenadas del Thread en dos dimensiones.\n",
        "      int idx = threadIdx.x + blockIdx.x*blockDim.x;\n",
        "      int idy = threadIdx.y + blockIdx.y*blockDim.y;\n",
        "\n",
        "      // Verifico que los Thread, esten dentro de las dimensiones de la imagen.\n",
        "      if( idx < ancho && idy < alto ) {\n",
        "        int indice = idy+(idx*ancho);\n",
        "        int i = 0;\n",
        "        int resul = 0;\n",
        "\n",
        "        //\n",
        "        while (i<inter) {\n",
        "          //multiplico fila por columna y sumo el resultado de cada componente\n",
        "          resul += matriz_a[idx*inter + i]*matriz_b[idy + i*inter];\n",
        "          i++;\n",
        "        }\n",
        "        //paso el resultado obtenido a la componente de la matriz\n",
        "        matriz_c[indice] = resul;\n",
        "      }\n",
        "  }\n",
        "\n",
        "  \"\"\")\n",
        "\n",
        "  # CPU - Genero la función kernel.\n",
        "  kernel = module.get_function(\"multiplicar\")\n",
        "\n",
        "  dim_hilo_x = 16\n",
        "  dim_bloque_x = numpy.int( (fila_mat_a+dim_hilo_x-1) / dim_hilo_x )\n",
        "\n",
        "  dim_hilo_y = 19\n",
        "  dim_bloque_y = numpy.int( (colum_mat_b+dim_hilo_y-1) / dim_hilo_y )\n",
        "\n",
        "  print( \"Thread: [\",\n",
        "        dim_hilo_x,\n",
        "        \",\",\n",
        "        dim_hilo_y,\n",
        "        \" ], Bloque : [\",\n",
        "        dim_bloque_x,\n",
        "        \",\",\n",
        "        dim_bloque_y,\n",
        "        \"]\" )\n",
        "  print( \"Total de Thread: [\",\n",
        "        dim_hilo_x*dim_bloque_x,\n",
        "        \",\",\n",
        "        dim_hilo_y*dim_bloque_y,\n",
        "        \" ]\",\n",
        "        \" = \",\n",
        "        dim_hilo_x*dim_bloque_x*dim_hilo_y*dim_bloque_y )\n",
        "\n",
        "  tiempo_multiplicacion_paralela = datetime.now()\n",
        "\n",
        "  kernel( numpy.int32(fila_mat_a),\n",
        "          numpy.int32(colum_mat_b),\n",
        "          numpy.int32(colum_mat_a),\n",
        "          matriz_a_Gpu,\n",
        "          matriz_b_Gpu,\n",
        "          matriz_c_Gpu,\n",
        "          block=( dim_hilo_x, dim_hilo_y, 1 ),\n",
        "          grid=(dim_bloque_x, dim_bloque_y,1) )\n",
        "\n",
        "  tiempo_multiplicacion_paralela = datetime.now() - tiempo_multiplicacion_paralela\n",
        "\n",
        "  # GPU - Copio el resultado desde la memoria GPU.\n",
        "  cuda.memcpy_dtoh( matriz_c, matriz_c_Gpu )\n",
        "  tiempo_total = datetime.now() - tiempo_total\n",
        "\n",
        "  print(\"\\n**MULTIPLICACION DE MATRICES UTILIZANDO GPU**\\n\")\n",
        "  print(\"Tiempo de definicion de matrices: \", tiempo_en_ms( tiempo_definicion_matrices ), \"[ms]\" )\n",
        "  print(\"Tiempo de reserva de matrices: \", tiempo_en_ms( tiempo_reserva_memoria_GPU ), \"[ms]\" )\n",
        "  print(\"Tiempo de copia de matrices: \", tiempo_en_ms( tiempo_copia_memoria_GPU ), \"[ms]\" )\n",
        "  print(\"Tiempo GPU  : \", tiempo_en_ms( tiempo_multiplicacion_paralela ), \"[ms]\" )\n",
        "  print(\"Tiempo TOTAL: \", tiempo_en_ms( tiempo_total ), \"[ms]\" )\n",
        "  print(\"Matiz A:\\n\", matriz_a)\n",
        "  print(\"Matiz B:\\n\", matriz_b)\n",
        "  print(\"Matiz C:\\n\", matriz_c)\n",
        "except Exception as e:\n",
        "  print(\"Oops Ocurrio una error!\")\n",
        "  print(\"Error debido a: \", e.__class__)\n",
        "  print(e)"
      ],
      "execution_count": 21,
      "outputs": [
        {
          "output_type": "stream",
          "text": [
            "Thread: [ 16 , 19  ], Bloque : [ 1 , 1 ]\n",
            "Total de Thread: [ 16 , 19  ]  =  304\n",
            "\n",
            "**MULTIPLICACION DE MATRICES UTILIZANDO GPU**\n",
            "\n",
            "Tiempo de definicion de matrices:  2.08 [ms]\n",
            "Tiempo de reserva de matrices:  0.301 [ms]\n",
            "Tiempo de copia de matrices:  0.064 [ms]\n",
            "Tiempo GPU  :  0.092 [ms]\n",
            "Tiempo TOTAL:  5.813 [ms]\n",
            "Matiz A:\n",
            " [[  3   0   4  -4  -8  -1   9   4   6  -1]\n",
            " [ -4  -7   0  -2  25   1  27 -16 -12   2]\n",
            " [  8   5   0   9  -5 -12 -12   7   6  -2]\n",
            " [ 17 -14   7 -16  -4 -14   5   0   4   0]\n",
            " [  4 -10   3   7  -8  -5   8  13 -10  10]\n",
            " [-12   4   0   6   8  -8   0   0   9  13]\n",
            " [  1   8 -15  10 -12   3  -9   0 -12  -2]\n",
            " [ -4  -3   8   8   0   7  -6  -5  -4  -6]\n",
            " [-10  -7 -11   6   5   0   9   3   0   0]\n",
            " [  1  20  13  -3   1   9  -4   1 -14  -1]]\n",
            "Matiz B:\n",
            " [[  0   8  10   1  -3   0 -10 -18   5  14]\n",
            " [ 24   3   1   5  -7  -1  -4   1  -1   0]\n",
            " [-14 -12  14   0  -1  -3  -2  -5   9 -19]\n",
            " [ -6 -13  -2   5   9 -22 -17  -4   0  -8]\n",
            " [ -1 -15  14  -9   0   1  -6 -13 -12  15]\n",
            " [-12   3   0   2  21  -5  -6 -17  11   1]\n",
            " [-14   1  14   6  -8  -7   1   2  -9   5]\n",
            " [  1  -9  -5  14  11   0 -10   8  14   3]\n",
            " [ 15 -15   7  11  -1  -3  -1   8   4  -8]\n",
            " [-17   8  11  11   4  -4   0  -6  13   1]]\n",
            "Matiz C:\n",
            " [[ -27   20  119  218 -108   -4   47  167  122 -115]\n",
            " [-801  -32  703 -444 -308  -90  145 -451 -791  521]\n",
            " [ 514 -180 -186  169  -71  -74 -239  186  167 -136]\n",
            " [-176  181  328  -51 -442  364  253   41   27  152]\n",
            " [-675  101   33  281  142 -202 -159   44  298  -13]\n",
            " [  62 -337  190  192  -63 -167   -7  222  -43 -163]\n",
            " [ 298  426 -612   -3  185 -103 -125   28   46   91]\n",
            " [-195 -169 -100 -181  217 -154  -94 -170   22 -284]\n",
            " [-178 -140  -92   36  105 -150   -3  181 -241  150]\n",
            " [  71  152   62  -80   59   37 -125 -323  170  -91]]\n"
          ],
          "name": "stdout"
        }
      ]
    },
    {
      "cell_type": "markdown",
      "metadata": {
        "id": "zqAv4Gt7qRrh"
      },
      "source": [
        "---\n",
        "# 4 Tabla de pasos\n",
        "\n",
        "\n",
        " Procesador | Funciòn | Detalle\n",
        "------------|---------|----------\n",
        "CPU      | pip install pycuda     | Instala en el cuaderno los driver de CUDA para Python.\n",
        "CPU      |  import                | Importa los módulos.\n",
        "CPU      |  datetime.now()        | Toma el tiempo actual.\n",
        "CPU      |numpy.random.randn(n, m)| Crear una matrices de dimensiones nxm con numeros ramdoms.\n",
        "CPU      |  ar.astype(np.int32()) | Convierte los elemementos del array ar en elementos de tipo int 32 bit.\n",
        "**GPU**  |  cuda.mem_alloc()      | Reserva la memoria para las matrices en GPU.\n",
        "**GPU**  |  cuda.memcpy_htod()    | Copio los valores en crudo de las matrices al GPU.\n",
        "CPU      |  SourceModule()        | Posee el còdigo del kernel.\n",
        "CPU      |  module.get_function() | convierte el texto del kernel en funcion de Python.\n",
        "CPU      | dim_hilo_x, dim_hilo_y | Calcula las dimensiones para la ejecuciòn de 2D.\n",
        "**GPU**  |  kernel()              | Ejecuta el kernel en GPU, enviando los parametros.\n",
        "CPU      |  print()               | Informa con algun mensaje.\n",
        "CPU      | cuda.memcpy_dtoh()     | Copia desde la memoria GPU al CPU."
      ]
    },
    {
      "cell_type": "markdown",
      "metadata": {
        "id": "Qtiz4_7bmaDe"
      },
      "source": [
        "---\n",
        "# 5 Conclusiones\n",
        "\n",
        "Se hicieron varias pruebas con matrices de pocos elementos, 9 = 3x3, y con matrices de muchas elementos, 62500 = 250x250. Se observo que para matrices pequeñas el tiempo de ejecucion de la forma secuencial utilizando la CPU y el tiempo de ejecucion de la forma paralela utilizando la GPU, son aproximadamente iguales y en ocaciones el tiempo de ejecucion total de la GPU es mayor que el tiempo de ejecucion total de la CPU, pareceria que no estaria mejorando el tiempo de ejecucion utilizando la GPU. Sin embargo al momento de tener matrices con muchos elementos se observo que el tiempo de ejecucion de la multiplicacion de matrices utilizando la GPU se mantiene constante o a lo sumo aumenta levemente, miestras que el tiempo de ejecucion de la multiplicacion de matrices utilizando la CPU aumenta significativamente cada vez que aumenta las dimenciones de las matrices.\n",
        "Se concluye que la utilizacion de la GPU baja el tiempo de ejecucion de la multiplicacion de matrices en comparacion con la CPU siempre que se multiplique matrices con muchos elementos aproximadamente 100 = 10x10"
      ]
    },
    {
      "cell_type": "markdown",
      "metadata": {
        "id": "ufDYy0LPmbYH"
      },
      "source": [
        "---\n",
        "# 6 Bibliografía\n",
        "\n",
        "[1] Multiplicacion de matrices, conceptual: [Pagina economipedia](https://economipedia.com/definiciones/multiplicacion-de-matrices.html)\n",
        "\n",
        "[2] Introducción a Python: [Página Colab](https://github.com/wvaliente/SOA_HPC/blob/main/Documentos/Python_Basico.ipynb) \n",
        "\n",
        "[3] Mulplicacion de matrices. Aplicaciones y Desarrollo: [PDF](http://docs.uprb.edu/deptmate/material%20suplementario/CIME/7mo%20a%209no/Matrices%20y%20sus%20Aplicaciones.pdf)\n",
        "\n",
        "[4] Canal Derivando, Aplicaciones de Matrices: [Video](https://www.youtube.com/watch?v=9FKFgNQktkU)\n",
        "\n"
      ]
    }
  ]
}