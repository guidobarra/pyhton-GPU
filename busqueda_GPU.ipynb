{
  "nbformat": 4,
  "nbformat_minor": 0,
  "metadata": {
    "colab": {
      "name": "busqueda_GPU.ipynb",
      "provenance": [],
      "collapsed_sections": [],
      "include_colab_link": true
    },
    "kernelspec": {
      "name": "python3",
      "display_name": "Python 3"
    },
    "accelerator": "GPU"
  },
  "cells": [
    {
      "cell_type": "markdown",
      "metadata": {
        "id": "view-in-github",
        "colab_type": "text"
      },
      "source": [
        "<a href=\"https://colab.research.google.com/github/guidobarra/pyhton-GPU/blob/main/busqueda_GPU.ipynb\" target=\"_parent\"><img src=\"https://colab.research.google.com/assets/colab-badge.svg\" alt=\"Open In Colab\"/></a>"
      ]
    },
    {
      "cell_type": "markdown",
      "metadata": {
        "id": "qoYPFWcielY3"
      },
      "source": [
        "# 1 Introducción\n",
        "\n",
        "El siguiente ejemplo se buscara un numero dentro de un vector\n",
        "\n",
        "EL objetivo es enseñar el funcionamiento del Lenguaje Python, CUDA y buscar un numero dentro de un vector. El ejemplo es ilustrativo para entender los multi hilos de la GPU de una dimenciones."
      ]
    },
    {
      "cell_type": "markdown",
      "metadata": {
        "id": "32YB71STfPcy"
      },
      "source": [
        "---\n",
        "# 2 Armado del ambiente\n",
        "Toma la direcciòn web de una imagen con  acceso público en internet, la deja disponible al contexto de ejecuciòn del cuaderno colab."
      ]
    },
    {
      "cell_type": "code",
      "metadata": {
        "id": "QcnL4UkAN7ub"
      },
      "source": [
        "#@title # 2.1 Parámetros de ejecución\n",
        "#@markdown ### Especifique las dimeciones de la matrices:\n",
        "\n",
        "try: \n",
        "  cant_element =  500001#@param {type:\"integer\"}\n",
        "  encontrar_numero =  9#@param {type:\"integer\"}\n",
        "\n",
        "except:\n",
        "  print(\"Error de ingresar los parametros\")\n",
        "\n",
        "\n",
        "\n",
        "\n",
        "\n",
        "\n"
      ],
      "execution_count": 87,
      "outputs": []
    },
    {
      "cell_type": "markdown",
      "metadata": {
        "id": "X-KdeQaNvHyx"
      },
      "source": [
        "Validar las matrices"
      ]
    },
    {
      "cell_type": "code",
      "metadata": {
        "id": "paAPWUM4vICC"
      },
      "source": [
        "\n",
        "if cant_element < 0 :\n",
        "  print(\"ERROR LA CANTIDAD DE ELEMENTOS NO PUEDE SER MENOR QUE CERO\")"
      ],
      "execution_count": 23,
      "outputs": []
    },
    {
      "cell_type": "markdown",
      "metadata": {
        "id": "3GLsQ34ysP4_"
      },
      "source": [
        "---\n",
        "## 2.2 Instala en el cuaderno el módulo CUDA de Python."
      ]
    },
    {
      "cell_type": "code",
      "metadata": {
        "id": "ropgS48tsRTv",
        "outputId": "ae98b1f8-019c-4544-c9c4-945da4ea9389",
        "colab": {
          "base_uri": "https://localhost:8080/"
        }
      },
      "source": [
        "!pip install pycuda"
      ],
      "execution_count": 30,
      "outputs": [
        {
          "output_type": "stream",
          "text": [
            "Requirement already satisfied: pycuda in /usr/local/lib/python3.6/dist-packages (2020.1)\n",
            "Requirement already satisfied: pytools>=2011.2 in /usr/local/lib/python3.6/dist-packages (from pycuda) (2020.4.3)\n",
            "Requirement already satisfied: decorator>=3.2.0 in /usr/local/lib/python3.6/dist-packages (from pycuda) (4.4.2)\n",
            "Requirement already satisfied: appdirs>=1.4.0 in /usr/local/lib/python3.6/dist-packages (from pycuda) (1.4.4)\n",
            "Requirement already satisfied: mako in /usr/local/lib/python3.6/dist-packages (from pycuda) (1.1.3)\n",
            "Requirement already satisfied: six>=1.8.0 in /usr/local/lib/python3.6/dist-packages (from pytools>=2011.2->pycuda) (1.15.0)\n",
            "Requirement already satisfied: dataclasses>=0.7; python_version <= \"3.6\" in /usr/local/lib/python3.6/dist-packages (from pytools>=2011.2->pycuda) (0.7)\n",
            "Requirement already satisfied: numpy>=1.6.0 in /usr/local/lib/python3.6/dist-packages (from pytools>=2011.2->pycuda) (1.18.5)\n",
            "Requirement already satisfied: MarkupSafe>=0.9.2 in /usr/local/lib/python3.6/dist-packages (from mako->pycuda) (1.1.1)\n"
          ],
          "name": "stdout"
        }
      ]
    },
    {
      "cell_type": "markdown",
      "metadata": {
        "id": "Xt4Pea0Psrx_"
      },
      "source": [
        "---\n",
        "# 3 Desarrollo\n",
        "Ejecución del algoritmo escala de grises en GPU."
      ]
    },
    {
      "cell_type": "code",
      "metadata": {
        "id": "8_uVXVJjz_Jr",
        "outputId": "2f8a764d-f4c6-418e-e632-b6ce197d01ed",
        "colab": {
          "base_uri": "https://localhost:8080/"
        }
      },
      "source": [
        "%matplotlib inline\n",
        "from datetime import datetime\n",
        "tiempo_total = datetime.now()\n",
        "\n",
        "import numpy\n",
        "import pycuda.driver as cuda\n",
        "import pycuda.autoinit\n",
        "from   pycuda.compiler import SourceModule\n",
        "\n",
        "# --------------------------------------------\n",
        "# Definición de función que transforma el tiempo en  milisegundos \n",
        "tiempo_en_ms = lambda dt:(dt.days * 24 * 60 * 60 + dt.seconds) * 1000 + dt.microseconds / 1000.0\n",
        "# --------------------------------------------\n",
        "\n",
        "tiempo_definicion_vector = datetime.now()\n",
        "\n",
        "# CPU - Defino la memoria del vector de n elementos en cpu.\n",
        "vector = numpy.array(range(-cant_element, cant_element, 2))\n",
        "vector = vector.astype(numpy.int32())\n",
        "\n",
        "# CPU - Defino la memoria del vector position_v de 1 elemento en cpu.\n",
        "position_v    = numpy.random.randn(1)*0\n",
        "position_v[0] = -1\n",
        "position_v    = position_v.astype(numpy.int32())\n",
        "\n",
        "tiempo_definicion_vector = datetime.now() - tiempo_definicion_vector\n",
        "\n",
        "tiempo_find_secuencial = datetime.now()\n",
        "\n",
        "position = -1\n",
        "acu_sec = 0\n",
        "for i in range(cant_element):\n",
        "  if vector[i] == encontrar_numero:\n",
        "    position = i\n",
        "    break\n",
        "\n",
        "tiempo_find_secuencial = datetime.now() - tiempo_find_secuencial\n",
        "    \n",
        "\n",
        "tiempo_reserva_memoria_GPU = datetime.now()\n",
        "# CPU - reservo la memoria GPU.\n",
        "vector_Gpu = cuda.mem_alloc(vector.nbytes)\n",
        "position_v_Gpu = cuda.mem_alloc(position_v.nbytes)\n",
        "tiempo_reserva_memoria_GPU = datetime.now() - tiempo_reserva_memoria_GPU\n",
        "\n",
        "tiempo_copia_memoria_GPU = datetime.now()\n",
        "# GPU - Copio la memoria al GPU.\n",
        "cuda.memcpy_htod(vector_Gpu, vector)\n",
        "cuda.memcpy_htod(position_v_Gpu, position_v)\n",
        "tiempo_copia_memoria_GPU = datetime.now() - tiempo_copia_memoria_GPU\n",
        "\n",
        "#CPU - Defino la funcion kernel que ejecutará en GPU\n",
        "module = SourceModule(\"\"\"\n",
        "__global__ void find(int tam, int number_find, int *vector, int *position)\n",
        "{\n",
        "    // Calculo las coordenadas del Thread en dos dimensiones.\n",
        "    int idx = threadIdx.x + blockIdx.x*blockDim.x;\n",
        "    \n",
        "    // Verifico que los Thread, esten dentro de las dimensiones del vector\n",
        "    if( idx < tam ) {\n",
        "      if (vector[idx] == number_find) {\n",
        "        position[0] = idx;\n",
        "      }\n",
        "    }\n",
        "}\n",
        "\n",
        "\"\"\")\n",
        "\n",
        "# CPU - Genero la función kernel.\n",
        "kernel = module.get_function(\"find\")\n",
        "\n",
        "# GPU - Ejecuta el kernel.\n",
        "# TODO: Falta consultar limites del GPU, para armar las dimensiones correctamente.\n",
        "dim_hilo = 256\n",
        "dim_bloque = numpy.int( (cant_element+dim_hilo-1) / dim_hilo )\n",
        "print( \"Thread x: \", dim_hilo, \", Bloque x:\", dim_bloque )\n",
        "\n",
        "tiempo_find_paralelo = datetime.now()\n",
        "\n",
        "kernel( numpy.int32(cant_element), \n",
        "        numpy.int32(encontrar_numero), \n",
        "        vector_Gpu, \n",
        "        position_v_Gpu, \n",
        "        block=( dim_hilo, 1, 1 ),\n",
        "        grid=(dim_bloque, 1,1) )\n",
        "\n",
        "tiempo_find_paralelo = datetime.now() - tiempo_find_paralelo\n",
        "\n",
        "# GPU - Copio el resultado desde la memoria GPU.\n",
        "cuda.memcpy_dtoh( position_v, position_v_Gpu )\n",
        "tiempo_total = datetime.now() - tiempo_total\n",
        "\n",
        "print(\"Cantidad de elementos del vector: \", cant_element)\n",
        "print(\"Numero a encontrar: \", encontrar_numero)\n",
        "print(\"Vector: \\n\", vector)\n",
        "if position == -1 or position_v[0] == -1:\n",
        "  print(\"No se encontro el numero: \", encontrar_numero)\n",
        "else:\n",
        "  print(\"Se encontro el numero: \", encontrar_numero)\n",
        "  print(\"Posicion dentro del vector es: \", position_v[0])\n",
        "  print(\"Posicion dentro del vector es: \", position)\n",
        "\n",
        "print(\"Tiempo TOTAL: \", tiempo_en_ms( tiempo_total ), \"[ms]\" )\n",
        "print(\"Tiempo GPU  : \", tiempo_en_ms( tiempo_find_paralelo ), \"[ms]\" )\n",
        "print(\"Tiempo CPU  : \", tiempo_en_ms( tiempo_find_secuencial ), \"[ms]\" )"
      ],
      "execution_count": 89,
      "outputs": [
        {
          "output_type": "stream",
          "text": [
            "Thread x:  256 , Bloque x: 1954\n",
            "Cantidad de elementos del vector:  500001\n",
            "Numero a encontrar:  9\n",
            "Vector: \n",
            " [-500001 -499999 -499997 ...  499995  499997  499999]\n",
            "Se encontro el numero:  9\n",
            "Posicion dentro del vector es:  250005\n",
            "Posicion dentro del vector es:  250005\n",
            "Tiempo TOTAL:  697.083 [ms]\n",
            "Tiempo GPU  :  0.246 [ms]\n",
            "Tiempo CPU  :  354.693 [ms]\n"
          ],
          "name": "stdout"
        }
      ]
    },
    {
      "cell_type": "markdown",
      "metadata": {
        "id": "zqAv4Gt7qRrh"
      },
      "source": [
        "---\n",
        "# 4 Tabla de pasos\n",
        "\n",
        "\n",
        " Procesador | Funciòn | Detalle\n",
        "------------|---------|----------\n",
        "CPU      | pip install pycuda    | Instala en el cuaderno los driver de CUDA para Python.\n",
        "CPU      |  import                | Importa los módulos para funcionar.\n",
        "CPU      |  datetime.now()        | Toma el tiempo actual.\n",
        "CPU      |  numpy.random(n)       | Crear una vector con numeros ramdoms de n elementos.\n",
        "CPU      |  ar.astype(np.int32()) | Convierte los elemementos del array ar en elementos de tipo int 32 bit.\n",
        "**GPU**  |  cuda.mem_alloc()      | Reserva la memoria para las imagenes en GPU.\n",
        "**GPU**  |  cuda.memcpy_htod()    | Copio los valores en crudo de las imagenes al GPU.\n",
        "CPU      |  SourceModule()        | Posee el còdigo del kernel.\n",
        "CPU      |  module.get_function() | convierte el texto del kernel en funcion de Python.\n",
        "CPU      |  dim_hilo_x            | Calcula las dimensiones para la ejecuciòn de 1D.\n",
        "**GPU**  |  kernel()              | Ejecuta el kernel en GPU, enviando los parametros.\n",
        "CPU      |  print()               | Informa los atributos de la imagen.\n",
        "CPU      | cuda.memcpy_dtoh()     | Copia desde la memoria GPU al CPU.\n",
        "\n"
      ]
    },
    {
      "cell_type": "markdown",
      "metadata": {
        "id": "Qtiz4_7bmaDe"
      },
      "source": [
        "---\n",
        "# 5 Conclusiones\n",
        "\n",
        "Las conclusiones son explicadas en clase..."
      ]
    },
    {
      "cell_type": "markdown",
      "metadata": {
        "id": "ufDYy0LPmbYH"
      },
      "source": [
        "---\n",
        "# 6 Bibliografía\n",
        "\n",
        "[1] MARKDOWN SYNTAX Colab: [PDF](https://github.com/wvaliente/SOA_HPC/blob/main/Documentos/markdown-cheatsheet-online.pdf)\n",
        "\n",
        "[2] Introducción a Python: [Página Colab](https://github.com/wvaliente/SOA_HPC/blob/main/Documentos/Python_Basico.ipynb) \n",
        "\n",
        "[3] Tutorial Point Colab: [PDF](https://github.com/wvaliente/SOA_HPC/blob/main/Documentos/markdown-cheatsheet-online.pdf)\n",
        "\n",
        "[4] 2009, SINTESIS DIGITAL DE COLOR UTILIZANDO TONOS DE GRIS, ING. JESÚS GUSTAVO FLORES ERAÑA : [PDF](https://ninive.uaslp.mx/xmlui/bitstream/handle/i/2264/MCA1SDC00901.pdf?sequence=1&isAllowed=y)\n"
      ]
    }
  ]
}