{
  "nbformat": 4,
  "nbformat_minor": 0,
  "metadata": {
    "colab": {
      "name": "BarraQuelca_GuidoAlberto_2.ipynb",
      "provenance": [],
      "collapsed_sections": [],
      "toc_visible": true,
      "include_colab_link": true
    },
    "kernelspec": {
      "name": "python3",
      "display_name": "Python 3"
    },
    "accelerator": "GPU"
  },
  "cells": [
    {
      "cell_type": "markdown",
      "metadata": {
        "id": "view-in-github",
        "colab_type": "text"
      },
      "source": [
        "<a href=\"https://colab.research.google.com/github/guidobarra/pyhton-GPU/blob/main/BarraQuelca_GuidoAlberto_2.ipynb\" target=\"_parent\"><img src=\"https://colab.research.google.com/assets/colab-badge.svg\" alt=\"Open In Colab\"/></a>"
      ]
    },
    {
      "cell_type": "markdown",
      "metadata": {
        "id": "qoYPFWcielY3"
      },
      "source": [
        "# 1 Introducción\n",
        "\n",
        "El siguiente ejemplo se multiplicara dos matrices A y B, el resultado de la multiplicacion se guardara en la matriz C.\n",
        "La multiplicacion de la matrices tiene muchas aplicaciones, una de ellas es en la generacion del movimientos de un objeto en los videojuegos como por ejemplo, la rotacion, el giro o la traslacion se los puede representar mediante una matriz. Al multiplicar algunas de las matrices mensionadas con la matriz de posicion del objeto, se obtiene el movimiento del mismo. \n",
        "\n",
        "El desarrollo teorico de la multiplicacion de matrices se mostrara a continuacion.\n",
        "\n",
        "C = A.B\n",
        "\\begin{pmatrix}a_{11}&\\cdots &a_{1n}\\\\\\vdots &\\ddots &\\vdots \\\\a_{m1}&\\cdots &a_{mn}\\end{pmatrix}\\begin{pmatrix}b_{11}&\\cdots &b_{1p}\\\\\\vdots &\\ddots &\\vdots \\\\b_{n1}&\\cdots &b_{np}\\end{pmatrix}\\begin{pmatrix}a_{11}b_{11}+\\cdots +a_{1n}b_{n1}&\\cdots &a_{11}b_{1p}+\\cdots +a_{1n}b_{np}\\\\\\vdots &\\ddots &\\vdots \\\\a_{m1}b_{11}+\\cdots +a_{mn}b_{n1}&\\cdots &a_{m1}b_{1p}+\\cdots +a_{mn}b_{np}\\end{pmatrix}\n",
        "\n",
        "La multiplicacion de matrices se puede realizar si la dimensiones de las matrices coinciden, por ejemplo una matriz A de dimension mxn y una matriz B de dimension nxp, se puede realizar la operacion de multiplicacion porque sus dimensiones coinciden, la cantidad de columnas de la matriz A es n y la cantidad de filas de la matriz B es n, la matriz del resultado C tiene la dimension de mxp. De forma simplificada la multiplicacion de matrices se realizas mediante la multiplicacion de los elementos de las filas de la matriz A con los elementos de las columnas de la matriz B, se suma cada multiplicacion y el resultado es un elemento de la matriz C,  debido a esto se valida las dimensiones de las matrices para su multiplicacion.\n",
        "\n",
        "\n",
        "Para realizar la multipliacion se utilizara la siguiente ecuacion, la cual sale del desarrollo teorico.\n",
        "<center>$C[f][c]=A[f][0]xB[0][c] + ....... +A[f][k]xB[k][c]$</center>\n",
        "cuando k sea:\n",
        "<center>$ k=cantColumnasMatrizA=cantFilasMatrizB$</center>\n",
        "\n",
        "EL objetivo es enseñar el funcionamiento del Lenguaje Python, CUDA y el manejo de la operacion de matriz a bajo nivel. El ejemplo es ilustrativo para entededer los multi hilos de la GPU en dos dimenciones, basicamente cada hilo realiza la misma operacion de multiplicar las filas por las columnas y el resultado se guarda en la matriz C."
      ]
    },
    {
      "cell_type": "markdown",
      "metadata": {
        "id": "32YB71STfPcy"
      },
      "source": [
        "---\n",
        "# 2 Armado del ambiente\n",
        "Toma las dimesiones de las matrices A Y B, la deja disponible al contexto de ejecuciòn del cuaderno colab."
      ]
    },
    {
      "cell_type": "code",
      "metadata": {
        "id": "QcnL4UkAN7ub"
      },
      "source": [
        "#@title # 2.1 Parámetros de ejecución\n",
        "#@markdown ### Especifique las dimensiones de la matrices:\n",
        "\n",
        "try: \n",
        "  fila_mat_a =  1#@param {type:\"integer\"}\n",
        "  colum_mat_a =  3#@param {type:\"integer\"}\n",
        "\n",
        "  fila_mat_b =  3#@param {type:\"integer\"}\n",
        "  colum_mat_b =  1#@param {type:\"integer\"}\n",
        "\n",
        "except:\n",
        "  print(\"Error de ingresar los parametros\")\n",
        "\n",
        "\n",
        "\n",
        "\n",
        "\n",
        "\n"
      ],
      "execution_count": 1,
      "outputs": []
    },
    {
      "cell_type": "markdown",
      "metadata": {
        "id": "X-KdeQaNvHyx"
      },
      "source": [
        "---\n",
        "# 2.2 validar los parametros"
      ]
    },
    {
      "cell_type": "code",
      "metadata": {
        "id": "paAPWUM4vICC",
        "outputId": "3c3e163c-3be9-4f58-904c-ff47cf17a45e",
        "colab": {
          "base_uri": "https://localhost:8080/"
        }
      },
      "source": [
        "#A.B\n",
        "if fila_mat_a < 0 or colum_mat_a < 0:\n",
        "  print(\"ERROR LAS DIMENCIONES DE LA MATRIZ A TIENE QUE SER MAYOR A 0\")\n",
        "elif fila_mat_b < 0 or colum_mat_b < 0:\n",
        "  print(\"ERROR LAS DIMENCIONES DE LA MATRIZ B TIENE QUE SER MAYOR A 0\")\n",
        "elif colum_mat_a != fila_mat_b:\n",
        "  print(\"ERROR LAS DIMENCIONES DE LAS MATRIZ NO PERMITEN REALIZAR LA MULTIPLICACION\")\n",
        "else: \n",
        "  print(\"OK LAS MATRICES SE PUEDEN MULTIPLICAR\")"
      ],
      "execution_count": 2,
      "outputs": [
        {
          "output_type": "stream",
          "text": [
            "OK LAS MATRICES SE PUEDEN MULTIPLICAR\n"
          ],
          "name": "stdout"
        }
      ]
    },
    {
      "cell_type": "markdown",
      "metadata": {
        "id": "3GLsQ34ysP4_"
      },
      "source": [
        "---\n",
        "## 2.2 Instala en el cuaderno el módulo CUDA de Python."
      ]
    },
    {
      "cell_type": "code",
      "metadata": {
        "id": "ropgS48tsRTv",
        "outputId": "168b0baf-7447-48e8-f409-d7545cdbfd84",
        "colab": {
          "base_uri": "https://localhost:8080/"
        }
      },
      "source": [
        "!pip install pycuda"
      ],
      "execution_count": 3,
      "outputs": [
        {
          "output_type": "stream",
          "text": [
            "Collecting pycuda\n",
            "\u001b[?25l  Downloading https://files.pythonhosted.org/packages/46/61/47d3235a4c13eec5a5f03594ddb268f4858734e02980afbcd806e6242fa5/pycuda-2020.1.tar.gz (1.6MB)\n",
            "\u001b[K     |████████████████████████████████| 1.6MB 6.9MB/s \n",
            "\u001b[?25hCollecting pytools>=2011.2\n",
            "\u001b[?25l  Downloading https://files.pythonhosted.org/packages/b7/30/c9362a282ef89106768cba9d884f4b2e4f5dc6881d0c19b478d2a710b82b/pytools-2020.4.3.tar.gz (62kB)\n",
            "\u001b[K     |████████████████████████████████| 71kB 9.4MB/s \n",
            "\u001b[?25hRequirement already satisfied: decorator>=3.2.0 in /usr/local/lib/python3.6/dist-packages (from pycuda) (4.4.2)\n",
            "Collecting appdirs>=1.4.0\n",
            "  Downloading https://files.pythonhosted.org/packages/3b/00/2344469e2084fb287c2e0b57b72910309874c3245463acd6cf5e3db69324/appdirs-1.4.4-py2.py3-none-any.whl\n",
            "Collecting mako\n",
            "\u001b[?25l  Downloading https://files.pythonhosted.org/packages/a6/37/0e706200d22172eb8fa17d68a7ae22dec7631a0a92266634fb518a88a5b2/Mako-1.1.3-py2.py3-none-any.whl (75kB)\n",
            "\u001b[K     |████████████████████████████████| 81kB 8.3MB/s \n",
            "\u001b[?25hRequirement already satisfied: six>=1.8.0 in /usr/local/lib/python3.6/dist-packages (from pytools>=2011.2->pycuda) (1.15.0)\n",
            "Requirement already satisfied: numpy>=1.6.0 in /usr/local/lib/python3.6/dist-packages (from pytools>=2011.2->pycuda) (1.18.5)\n",
            "Requirement already satisfied: dataclasses>=0.7 in /usr/local/lib/python3.6/dist-packages (from pytools>=2011.2->pycuda) (0.7)\n",
            "Requirement already satisfied: MarkupSafe>=0.9.2 in /usr/local/lib/python3.6/dist-packages (from mako->pycuda) (1.1.1)\n",
            "Building wheels for collected packages: pycuda, pytools\n",
            "  Building wheel for pycuda (setup.py) ... \u001b[?25l\u001b[?25hdone\n",
            "  Created wheel for pycuda: filename=pycuda-2020.1-cp36-cp36m-linux_x86_64.whl size=620990 sha256=784be6b24a78e7fcdae8b38e99471cd51f0b106868963cfb2ca1a20943e4dcbf\n",
            "  Stored in directory: /root/.cache/pip/wheels/8f/78/d1/5bb826f81d9d490297a348d818ff3ee6dd6f2075b06dde6ea0\n",
            "  Building wheel for pytools (setup.py) ... \u001b[?25l\u001b[?25hdone\n",
            "  Created wheel for pytools: filename=pytools-2020.4.3-py2.py3-none-any.whl size=61374 sha256=1d338249e864ffb7c5d2be67840232ab9ce33f2e46d84824b6e94cb7ab05fc89\n",
            "  Stored in directory: /root/.cache/pip/wheels/af/c7/81/a22edb90b0b09a880468b2253bb1df8e9f503337ee15432c64\n",
            "Successfully built pycuda pytools\n",
            "Installing collected packages: appdirs, pytools, mako, pycuda\n",
            "Successfully installed appdirs-1.4.4 mako-1.1.3 pycuda-2020.1 pytools-2020.4.3\n"
          ],
          "name": "stdout"
        }
      ]
    },
    {
      "cell_type": "markdown",
      "metadata": {
        "id": "Xt4Pea0Psrx_"
      },
      "source": [
        "---\n",
        "# 3 Desarrollo\n",
        "Ejecución del algoritmo de multiplicacion de matrices secuencial y paralelo."
      ]
    },
    {
      "cell_type": "markdown",
      "metadata": {
        "id": "i8TieHPix4bw"
      },
      "source": [
        "---\n",
        "# 3.1 Desarrollo Secuencial\n",
        "Ejecución del algoritmo de multiplicacion de matrices en forma secuencial utilizando la CPU."
      ]
    },
    {
      "cell_type": "code",
      "metadata": {
        "id": "8_uVXVJjz_Jr",
        "outputId": "f90bd905-16fb-49e7-baa5-e536d341ca63",
        "colab": {
          "base_uri": "https://localhost:8080/"
        }
      },
      "source": [
        "try:\n",
        "  %matplotlib inline\n",
        "  from datetime import datetime\n",
        "  tiempo_total = datetime.now()\n",
        "  import numpy\n",
        "  \n",
        "  \n",
        "  # --------------------------------------------\n",
        "  # Definición de función que transforma el tiempo en  milisegundos \n",
        "  tiempo_en_ms = lambda dt:(dt.days * 24 * 60 * 60 + dt.seconds) * 1000 + dt.microseconds / 1000.0\n",
        "  # --------------------------------------------\n",
        "  \n",
        "  tiempo_definicion_matrices = datetime.now()\n",
        "  \n",
        "  # CPU - Defino la memoria de la matriz A en cpu.\n",
        "  matriz_a = numpy.random.randn(fila_mat_a, colum_mat_a)*10\n",
        "  matriz_a = matriz_a.astype(numpy.int32())\n",
        "  \n",
        "  # CPU - Defino la memoria de la matriz B en cpu.\n",
        "  matriz_b = numpy.random.randn(fila_mat_b, colum_mat_b)*10\n",
        "  matriz_b = matriz_b.astype(numpy.int32())\n",
        "  \n",
        "  # CPU - Defino la memoria de la matriz resultado C en cpu.\n",
        "  matriz_c = numpy.random.randn(fila_mat_a, colum_mat_b)*0\n",
        "  matriz_c = matriz_c.astype(numpy.int32())\n",
        "  matriz_c_secuencial = numpy.random.randn(fila_mat_a, colum_mat_b)*0\n",
        "  matriz_c_secuencial = matriz_c_secuencial.astype(numpy.int32())\n",
        "  \n",
        "  tiempo_definicion_matrices = datetime.now() - tiempo_definicion_matrices\n",
        "  \n",
        "  tiempo_multiplicacion_secuencial = datetime.now()\n",
        "  \n",
        "  for f in range(fila_mat_a):\n",
        "    for c in range(colum_mat_b):\n",
        "      for inter in range(colum_mat_a):\n",
        "        matriz_c_secuencial[f][c] += matriz_a[f][inter]*matriz_b[inter][c]\n",
        "  \n",
        "  tiempo_multiplicacion_secuencial = datetime.now() - tiempo_multiplicacion_secuencial\n",
        "  tiempo_total = datetime.now() - tiempo_total\n",
        "\n",
        "\n",
        "  print(\"Matiz A:\\n\", matriz_a)\n",
        "  print(\"Matiz B:\\n\", matriz_b)\n",
        "  print(\"Matiz C:\\n\", matriz_c_secuencial)\n",
        "  print(\"Tiempo TOTAL: \", tiempo_en_ms( tiempo_total ), \"[ms]\" )\n",
        "  print(\"Tiempo CPU  : \", tiempo_en_ms( tiempo_multiplicacion_secuencial ), \"[ms]\" )\n",
        "except Exception as e:\n",
        "  print(\"Oops Ocurrio una error!\")\n",
        "  print(\"Error debido a: \", e.__class__)\n",
        "  print(e)"
      ],
      "execution_count": 4,
      "outputs": [
        {
          "output_type": "stream",
          "text": [
            "Matiz A:\n",
            " [[-7 -4 -3]]\n",
            "Matiz B:\n",
            " [[ -6]\n",
            " [-19]\n",
            " [  0]]\n",
            "Matiz C:\n",
            " [[118]]\n",
            "Tiempo TOTAL:  0.532 [ms]\n",
            "Tiempo CPU  :  0.018 [ms]\n"
          ],
          "name": "stdout"
        }
      ]
    },
    {
      "cell_type": "markdown",
      "metadata": {
        "id": "Y_aZcBiexkyG"
      },
      "source": [
        "---\n",
        "# 3.2 Desarrollo Paralelo\n",
        "Ejecución del algoritmo de multiplicacion de matrices en forma paralela utilizando la GPU."
      ]
    },
    {
      "cell_type": "code",
      "metadata": {
        "id": "77PeSRgWv9-W",
        "outputId": "279fa6e5-1347-43f7-9b29-c388e2f59d95",
        "colab": {
          "base_uri": "https://localhost:8080/"
        }
      },
      "source": [
        "try:\n",
        "  %matplotlib inline\n",
        "  from datetime import datetime\n",
        "  tiempo_total = datetime.now()\n",
        "\n",
        "  import numpy\n",
        "  import pycuda.driver as cuda\n",
        "  import pycuda.autoinit\n",
        "  from   pycuda.compiler import SourceModule\n",
        "\n",
        "  # --------------------------------------------\n",
        "  # Definición de función que transforma el tiempo en  milisegundos\n",
        "  tiempo_en_ms = lambda dt:(dt.days * 24 * 60 * 60 + dt.seconds) * 1000 + dt.microseconds / 1000.0\n",
        "  # --------------------------------------------\n",
        "\n",
        "  tiempo_definicion_matrices = datetime.now()\n",
        "\n",
        "  # CPU - Defino la memoria de la matriz A en cpu.\n",
        "  matriz_a = numpy.random.randn(fila_mat_a, colum_mat_a)*10\n",
        "  matriz_a = matriz_a.astype(numpy.int32())\n",
        "\n",
        "  # CPU - Defino la memoria de la matriz B en cpu.\n",
        "  matriz_b = numpy.random.randn(fila_mat_b, colum_mat_b)*10\n",
        "  matriz_b = matriz_b.astype(numpy.int32())\n",
        "\n",
        "  # CPU - Defino la memoria de la matriz resultado C en cpu.\n",
        "  matriz_c = numpy.random.randn(fila_mat_a, colum_mat_b)*0\n",
        "  matriz_c = matriz_c.astype(numpy.int32())\n",
        "  matriz_c_secuencial = numpy.random.randn(fila_mat_a, colum_mat_b)*0\n",
        "  matriz_c_secuencial = matriz_c_secuencial.astype(numpy.int32())\n",
        "\n",
        "  tiempo_definicion_matrices = datetime.now() - tiempo_definicion_matrices\n",
        "\n",
        "  tiempo_reserva_memoria_GPU = datetime.now()\n",
        "  # CPU - reservo la memoria GPU.\n",
        "  matriz_a_Gpu = cuda.mem_alloc(matriz_a.nbytes)\n",
        "  matriz_b_Gpu = cuda.mem_alloc(matriz_b.nbytes)\n",
        "  matriz_c_Gpu = cuda.mem_alloc(matriz_c.nbytes)\n",
        "  tiempo_reserva_memoria_GPU = datetime.now() - tiempo_reserva_memoria_GPU\n",
        "\n",
        "  tiempo_copia_memoria_GPU = datetime.now()\n",
        "  # GPU - Copio la memoria al GPU.\n",
        "  cuda.memcpy_htod(matriz_a_Gpu, matriz_a)\n",
        "  cuda.memcpy_htod(matriz_b_Gpu, matriz_b)\n",
        "  cuda.memcpy_htod(matriz_c_Gpu, matriz_c)\n",
        "  tiempo_copia_memoria_GPU = datetime.now() - tiempo_copia_memoria_GPU\n",
        "\n",
        "  #CPU - Defino la funcion kernel que ejecutará en GPU\n",
        "  module = SourceModule(\"\"\"\n",
        "  __global__ void multiplicar(int ancho, int alto, int inter, int *matriz_a , int *matriz_b, int *matriz_c)\n",
        "  {\n",
        "      // Calculo las coordenadas del Thread en dos dimensiones.\n",
        "      int idx = threadIdx.x + blockIdx.x*blockDim.x;\n",
        "      int idy = threadIdx.y + blockIdx.y*blockDim.y;\n",
        "\n",
        "      // Verifico que los Thread, esten dentro de las dimensiones de la imagen.\n",
        "      if( idx < ancho && idy < alto ) {\n",
        "        int indice = idy+(idx*ancho);\n",
        "        int i = 0;\n",
        "        int resul = 0;\n",
        "\n",
        "        //\n",
        "        while (i<inter) {\n",
        "          //multiplico fila por columna y sumo el resultado de cada componente\n",
        "          resul += matriz_a[idx*inter + i]*matriz_b[idy + i*inter];\n",
        "          i++;\n",
        "        }\n",
        "        //paso el resultado obtenido a la componente de la matriz\n",
        "        matriz_c[indice] = resul;\n",
        "      }\n",
        "  }\n",
        "\n",
        "  \"\"\")\n",
        "\n",
        "  # CPU - Genero la función kernel.\n",
        "  kernel = module.get_function(\"multiplicar\")\n",
        "\n",
        "  dim_hilo_x = 16\n",
        "  dim_bloque_x = numpy.int( (fila_mat_a+dim_hilo_x-1) / dim_hilo_x )\n",
        "\n",
        "  dim_hilo_y = 19\n",
        "  dim_bloque_y = numpy.int( (colum_mat_b+dim_hilo_y-1) / dim_hilo_y )\n",
        "\n",
        "  print( \"Thread: [\",\n",
        "        dim_hilo_x,\n",
        "        \",\",\n",
        "        dim_hilo_y,\n",
        "        \" ], Bloque : [\",\n",
        "        dim_bloque_x,\n",
        "        \",\",\n",
        "        dim_bloque_y,\n",
        "        \"]\" )\n",
        "  print( \"Total de Thread: [\",\n",
        "        dim_hilo_x*dim_bloque_x,\n",
        "        \",\",\n",
        "        dim_hilo_y*dim_bloque_y,\n",
        "        \" ]\",\n",
        "        \" = \",\n",
        "        dim_hilo_x*dim_bloque_x*dim_hilo_y*dim_bloque_y )\n",
        "\n",
        "  tiempo_multiplicacion_paralela = datetime.now()\n",
        "\n",
        "  kernel( numpy.int32(fila_mat_a),\n",
        "          numpy.int32(colum_mat_b),\n",
        "          numpy.int32(colum_mat_a),\n",
        "          matriz_a_Gpu,\n",
        "          matriz_b_Gpu,\n",
        "          matriz_c_Gpu,\n",
        "          block=( dim_hilo_x, dim_hilo_y, 1 ),\n",
        "          grid=(dim_bloque_x, dim_bloque_y,1) )\n",
        "\n",
        "  tiempo_multiplicacion_paralela = datetime.now() - tiempo_multiplicacion_paralela\n",
        "\n",
        "  # GPU - Copio el resultado desde la memoria GPU.\n",
        "  cuda.memcpy_dtoh( matriz_c, matriz_c_Gpu )\n",
        "  tiempo_total = datetime.now() - tiempo_total\n",
        "\n",
        "  print(\"Matiz A:\\n\", matriz_a)\n",
        "  print(\"Matiz B:\\n\", matriz_b)\n",
        "  print(\"Matiz C:\\n\", matriz_c)\n",
        "  print(\"Tiempo TOTAL: \", tiempo_en_ms( tiempo_total ), \"[ms]\" )\n",
        "  print(\"Tiempo GPU  : \", tiempo_en_ms( tiempo_multiplicacion_paralela ), \"[ms]\" )\n",
        "\n",
        "except Exception as e:\n",
        "  print(\"Oops Ocurrio una error!\")\n",
        "  print(\"Error debido a: \", e.__class__)\n",
        "  print(e)"
      ],
      "execution_count": 5,
      "outputs": [
        {
          "output_type": "stream",
          "text": [
            "Thread: [ 16 , 19  ], Bloque : [ 1 , 1 ]\n",
            "Total de Thread: [ 16 , 19  ]  =  304\n",
            "Matiz A:\n",
            " [[ 5 -4 -3]]\n",
            "Matiz B:\n",
            " [[-1]\n",
            " [-5]\n",
            " [-6]]\n",
            "Matiz C:\n",
            " [[-5]]\n",
            "Tiempo TOTAL:  1137.835 [ms]\n",
            "Tiempo GPU  :  1.769 [ms]\n"
          ],
          "name": "stdout"
        }
      ]
    },
    {
      "cell_type": "markdown",
      "metadata": {
        "id": "zqAv4Gt7qRrh"
      },
      "source": [
        " Procesador | Funciòn | Detalle\n",
        "------------|---------|----------\n",
        "CPU      | pip install pycuda    | Instala en el cuaderno los driver de CUDA para Python.\n",
        "CPU      |  import                | Importa los módulos para funcionar.\n",
        "CPU      |  datetime.now()        | Toma el tiempo actual.\n",
        "CPU      |  numpy.random(n)       | Crear una vector con numeros ramdoms de n elementos.\n",
        "CPU      |  ar.astype(np.int32()) | Convierte los elemementos del array ar en elementos de tipo int 32 bit.\n",
        "**GPU**  |  cuda.mem_alloc()      | Reserva la memoria para las imagenes en GPU.\n",
        "**GPU**  |  cuda.memcpy_htod()    | Copio los valores en crudo de las imagenes al GPU.\n",
        "CPU      |  SourceModule()        | Posee el còdigo del kernel.\n",
        "CPU      |  module.get_function() | convierte el texto del kernel en funcion de Python.\n",
        "CPU      |  dim_hilo_x            | Calcula las dimensiones para la ejecuciòn de 1D.\n",
        "**GPU**  |  kernel()              | Ejecuta el kernel en GPU, enviando los parametros.\n",
        "CPU      |  print()               | Informa los atributos de la imagen.\n",
        "CPU      | cuda.memcpy_dtoh()     | Copia desde la memoria GPU al CPU."
      ]
    },
    {
      "cell_type": "markdown",
      "metadata": {
        "id": "Qtiz4_7bmaDe"
      },
      "source": [
        "---\n",
        "# 5 Conclusiones\n",
        "\n",
        "Las conclusiones son explicadas en clase..."
      ]
    },
    {
      "cell_type": "markdown",
      "metadata": {
        "id": "ufDYy0LPmbYH"
      },
      "source": [
        "---\n",
        "# 6 Bibliografía\n",
        "\n",
        "[1] MARKDOWN SYNTAX Colab: [PDF](https://github.com/wvaliente/SOA_HPC/blob/main/Documentos/markdown-cheatsheet-online.pdf)\n",
        "\n",
        "[2] Introducción a Python: [Página Colab](https://github.com/wvaliente/SOA_HPC/blob/main/Documentos/Python_Basico.ipynb) \n",
        "\n",
        "[3] Tutorial Point Colab: [PDF](https://github.com/wvaliente/SOA_HPC/blob/main/Documentos/markdown-cheatsheet-online.pdf)\n",
        "\n",
        "[4] 2009, SINTESIS DIGITAL DE COLOR UTILIZANDO TONOS DE GRIS, ING. JESÚS GUSTAVO FLORES ERAÑA : [PDF](https://ninive.uaslp.mx/xmlui/bitstream/handle/i/2264/MCA1SDC00901.pdf?sequence=1&isAllowed=y)\n"
      ]
    }
  ]
}